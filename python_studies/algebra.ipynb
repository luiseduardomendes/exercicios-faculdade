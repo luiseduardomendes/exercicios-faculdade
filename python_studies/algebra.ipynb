{
 "cells": [
  {
   "cell_type": "code",
   "execution_count": 2,
   "metadata": {},
   "outputs": [
    {
     "name": "stderr",
     "output_type": "stream",
     "text": [
      "E:\\anaconda\\lib\\site-packages\\IPython\\lib\\latextools.py:126: MatplotlibDeprecationWarning: \n",
      "The to_png function was deprecated in Matplotlib 3.4 and will be removed two minor releases later. Use mathtext.math_to_image instead.\n",
      "  mt.to_png(f, s, fontsize=12, dpi=dpi, color=color)\n",
      "E:\\anaconda\\lib\\site-packages\\IPython\\lib\\latextools.py:126: MatplotlibDeprecationWarning: \n",
      "The to_rgba function was deprecated in Matplotlib 3.4 and will be removed two minor releases later. Use mathtext.math_to_image instead.\n",
      "  mt.to_png(f, s, fontsize=12, dpi=dpi, color=color)\n",
      "E:\\anaconda\\lib\\site-packages\\IPython\\lib\\latextools.py:126: MatplotlibDeprecationWarning: \n",
      "The to_mask function was deprecated in Matplotlib 3.4 and will be removed two minor releases later. Use mathtext.math_to_image instead.\n",
      "  mt.to_png(f, s, fontsize=12, dpi=dpi, color=color)\n",
      "E:\\anaconda\\lib\\site-packages\\IPython\\lib\\latextools.py:126: MatplotlibDeprecationWarning: \n",
      "The MathtextBackendBitmap class was deprecated in Matplotlib 3.4 and will be removed two minor releases later. Use mathtext.math_to_image instead.\n",
      "  mt.to_png(f, s, fontsize=12, dpi=dpi, color=color)\n"
     ]
    },
    {
     "data": {
      "text/latex": [
       "$\\displaystyle \\left[\\begin{matrix}\\frac{1}{8} & \\frac{5}{16} & - \\frac{3}{16}\\\\\\frac{7}{48} & - \\frac{13}{96} & \\frac{11}{96}\\\\- \\frac{1}{48} & - \\frac{5}{96} & \\frac{19}{96}\\end{matrix}\\right]$"
      ],
      "text/plain": [
       "⎡ 1/8   5/16   -3/16⎤\n",
       "⎢                   ⎥\n",
       "⎢       -13     11  ⎥\n",
       "⎢7/48   ────    ──  ⎥\n",
       "⎢        96     96  ⎥\n",
       "⎢                   ⎥\n",
       "⎢               19  ⎥\n",
       "⎢-1/48  -5/96   ──  ⎥\n",
       "⎣               96  ⎦"
      ]
     },
     "execution_count": 2,
     "metadata": {},
     "output_type": "execute_result"
    }
   ],
   "source": [
    "import sympy as sp\n",
    "\n",
    "sp.init_printing()\n",
    "\n",
    "A = sp.Matrix([[2,5,-1],[3,-2,4],[1,0,6]])\n",
    "\n",
    "A.inv()"
   ]
  },
  {
   "cell_type": "code",
   "execution_count": 3,
   "metadata": {},
   "outputs": [
    {
     "data": {
      "text/latex": [
       "$\\displaystyle \\left( \\left[\\begin{matrix}1 & 0 & 1\\\\0 & 1 & 1\\\\0 & 0 & 0\\end{matrix}\\right], \\  \\left( 0, \\  1\\right)\\right)$"
      ],
      "text/plain": [
       "⎛⎡1  0  1⎤        ⎞\n",
       "⎜⎢       ⎥        ⎟\n",
       "⎜⎢0  1  1⎥, (0, 1)⎟\n",
       "⎜⎢       ⎥        ⎟\n",
       "⎝⎣0  0  0⎦        ⎠"
      ]
     },
     "execution_count": 3,
     "metadata": {},
     "output_type": "execute_result"
    }
   ],
   "source": [
    "sp.Matrix([\n",
    "    [1,-2,-1],\n",
    "    [2,1,3],\n",
    "    [1,3,4]\n",
    "]).rref()"
   ]
  },
  {
   "cell_type": "code",
   "execution_count": 4,
   "metadata": {},
   "outputs": [
    {
     "data": {
      "image/png": "[encoded data removed]",
      "text/latex": [
       "$\\displaystyle \\left\\{\\left( 3, \\  0, \\  -2\\right)\\right\\}$"
      ],
      "text/plain": [
       "{(3, 0, -2)}"
      ]
     },
     "execution_count": 4,
     "metadata": {},
     "output_type": "execute_result"
    }
   ],
   "source": [
    "A = sp.Matrix([\n",
    "    [1,-2,1],\n",
    "    [2,-2,2],\n",
    "    [-1,0,-3]\n",
    "])\n",
    "\n",
    "x1,x2,x3 = sp.symbols(['x1', 'x2', 'x3'])\n",
    "\n",
    "X = sp.Matrix([x1,x2,x3])\n",
    "R = sp.Matrix([1,2,3])\n",
    "\n",
    "sp.linsolve((A, R), (x1, x2, x3))"
   ]
  },
  {
   "cell_type": "markdown",
   "metadata": {},
   "source": [
    "### Questao 4"
   ]
  },
  {
   "cell_type": "code",
   "execution_count": 5,
   "metadata": {},
   "outputs": [
    {
     "data": {
      "text/latex": [
       "$\\displaystyle \\left[\\begin{matrix}0\\\\0\\\\0\\\\0\\end{matrix}\\right]$"
      ],
      "text/plain": [
       "⎡0⎤\n",
       "⎢ ⎥\n",
       "⎢0⎥\n",
       "⎢ ⎥\n",
       "⎢0⎥\n",
       "⎢ ⎥\n",
       "⎣0⎦"
      ]
     },
     "execution_count": 5,
     "metadata": {},
     "output_type": "execute_result"
    }
   ],
   "source": [
    "x1,x2,x3 = sp.symbols(['x1', 'x2', 'x3'])\n",
    "\n",
    "A = sp.Matrix([\n",
    "    [1,5,1,6],\n",
    "    [2,6,1,8],\n",
    "    [3,7,2,10],\n",
    "    [4,8,3,12]\n",
    "])\n",
    "A * sp.Matrix([1,1,0,-1])\n"
   ]
  },
  {
   "cell_type": "markdown",
   "metadata": {},
   "source": [
    "### Questao 5"
   ]
  },
  {
   "cell_type": "code",
   "execution_count": 6,
   "metadata": {},
   "outputs": [
    {
     "data": {
      "image/png": "[encoded data removed]",
      "text/latex": [
       "$\\displaystyle \\left\\{\\left( - \\frac{8}{5}, \\  - \\frac{6}{5}, \\  \\frac{16}{5}\\right)\\right\\}$"
      ],
      "text/plain": [
       "{(-8/5, -6/5, 16/5)}"
      ]
     },
     "execution_count": 6,
     "metadata": {},
     "output_type": "execute_result"
    }
   ],
   "source": [
    "A= sp.Matrix([\n",
    "    [1,0,1],\n",
    "    [-3,2,1],\n",
    "    [0,2,-1]\n",
    "]).T\n",
    "\n",
    "R = sp.Matrix([2,4,-6])\n",
    "\n",
    "sp.linsolve((A, R), (x1, x2, x3))\n",
    "\n",
    "#A * sp.Matrix([-8/5, -6/5, 16/5]) \n"
   ]
  },
  {
   "cell_type": "markdown",
   "metadata": {},
   "source": [
    "### Questao 1"
   ]
  },
  {
   "cell_type": "code",
   "execution_count": 7,
   "metadata": {},
   "outputs": [
    {
     "data": {
      "image/png": "[encoded data removed]",
      "text/latex": [
       "$\\displaystyle 0$"
      ],
      "text/plain": [
       "0"
      ]
     },
     "execution_count": 7,
     "metadata": {},
     "output_type": "execute_result"
    }
   ],
   "source": [
    "A = sp.Matrix([\n",
    "    [1,0,1],\n",
    "    [0,3,117],\n",
    "    [1,1,40]\n",
    "])\n",
    "A.det()"
   ]
  },
  {
   "cell_type": "markdown",
   "metadata": {},
   "source": [
    "### Questao 2"
   ]
  },
  {
   "cell_type": "code",
   "execution_count": 8,
   "metadata": {},
   "outputs": [
    {
     "data": {
      "text/latex": [
       "$\\displaystyle \\left[\\begin{matrix}2 & -1\\\\-5 & 19\\end{matrix}\\right]$"
      ],
      "text/plain": [
       "⎡2   -1⎤\n",
       "⎢      ⎥\n",
       "⎣-5  19⎦"
      ]
     },
     "execution_count": 8,
     "metadata": {},
     "output_type": "execute_result"
    }
   ],
   "source": [
    "A = sp.Matrix([[3,1],[4,2]])\n",
    "B = sp.Matrix([[1,16],[-2,34]])\n",
    "A.inv() * B \n",
    "\n"
   ]
  },
  {
   "cell_type": "markdown",
   "metadata": {},
   "source": [
    "### Questao 3"
   ]
  },
  {
   "cell_type": "code",
   "execution_count": 9,
   "metadata": {},
   "outputs": [],
   "source": [
    "from random import randint\n",
    "\n",
    "booleanList = []\n",
    "\n",
    "for i in range (0,1000):\n",
    "    A = sp.Matrix([\n",
    "        [randint(0,10), randint(0,10), randint(0,10)],\n",
    "        [randint(0,10), randint(0,10), randint(0,10)],\n",
    "        [randint(0,10), randint(0,10), randint(0,10)]\n",
    "    ])\n",
    "    B = sp.Matrix([\n",
    "        [randint(0,10), randint(0,10), randint(0,10)],\n",
    "        [randint(0,10), randint(0,10), randint(0,10)],\n",
    "        [randint(0,10), randint(0,10), randint(0,10)]\n",
    "    ])\n",
    "\n",
    "\n",
    "    if A.det() != 0 and B.det() != 0:\n",
    "        C = A * B\n",
    "        if C.det() == 0:\n",
    "            raise Exception(\"MULTIPLICACAO DE MATRIZES LI NAO GERA MATRIZES LI\")\n",
    "\n",
    "\n",
    "    "
   ]
  },
  {
   "cell_type": "markdown",
   "metadata": {},
   "source": [
    "### Questao 7"
   ]
  },
  {
   "cell_type": "code",
   "execution_count": 10,
   "metadata": {},
   "outputs": [
    {
     "data": {
      "text/latex": [
       "$\\displaystyle \\left( \\left[\\begin{matrix}1 & 0 & \\frac{1}{5} & 0\\\\0 & 1 & - \\frac{3}{5} & 0\\\\0 & 0 & 0 & 1\\end{matrix}\\right], \\  \\left( 0, \\  1, \\  3\\right)\\right)$"
      ],
      "text/plain": [
       "⎛⎡1  0  1/5   0⎤           ⎞\n",
       "⎜⎢             ⎥           ⎟\n",
       "⎜⎢0  1  -3/5  0⎥, (0, 1, 3)⎟\n",
       "⎜⎢             ⎥           ⎟\n",
       "⎝⎣0  0   0    1⎦           ⎠"
      ]
     },
     "execution_count": 10,
     "metadata": {},
     "output_type": "execute_result"
    }
   ],
   "source": [
    "A = sp.Matrix([\n",
    "    [1, 2, -1, 3],\n",
    "    [2, -1, 1, -1],\n",
    "    [4, 3, -1 ,1]\n",
    "]).rref()\n",
    "A"
   ]
  },
  {
   "cell_type": "markdown",
   "metadata": {},
   "source": [
    "### Questao 3 c"
   ]
  },
  {
   "cell_type": "code",
   "execution_count": 11,
   "metadata": {},
   "outputs": [],
   "source": [
    "A = sp.Matrix([\n",
    "    [4, -2],\n",
    "    [2, 1],\n",
    "])\n",
    "X = sp.Matrix([\n",
    "    [1,0],\n",
    "    [0,-1]\n",
    "])\n",
    "B = X * A\n",
    "\n"
   ]
  },
  {
   "cell_type": "code",
   "execution_count": 12,
   "metadata": {},
   "outputs": [
    {
     "data": {
      "text/latex": [
       "$\\displaystyle \\left[\\begin{matrix}9 & 7 & 7\\\\1 & 6 & 7\\\\8 & 8 & 4\\end{matrix}\\right]$"
      ],
      "text/plain": [
       "⎡9  7  7⎤\n",
       "⎢       ⎥\n",
       "⎢1  6  7⎥\n",
       "⎢       ⎥\n",
       "⎣8  8  4⎦"
      ]
     },
     "execution_count": 12,
     "metadata": {},
     "output_type": "execute_result"
    }
   ],
   "source": [
    "A = sp.Matrix([\n",
    "        [randint(0,10), randint(0,10), randint(0,10)],\n",
    "        [randint(0,10), randint(0,10), randint(0,10)],\n",
    "        [randint(0,10), randint(0,10), randint(0,10)]\n",
    "    ])\n",
    "A"
   ]
  },
  {
   "cell_type": "code",
   "execution_count": 18,
   "metadata": {},
   "outputs": [
    {
     "data": {
      "text/latex": [
       "$\\displaystyle \\left( \\left[\\begin{matrix}1 & 0\\\\0 & 1\\\\0 & 0\\end{matrix}\\right], \\  \\left( 0, \\  1\\right)\\right)$"
      ],
      "text/plain": [
       "⎛⎡1  0⎤        ⎞\n",
       "⎜⎢    ⎥        ⎟\n",
       "⎜⎢0  1⎥, (0, 1)⎟\n",
       "⎜⎢    ⎥        ⎟\n",
       "⎝⎣0  0⎦        ⎠"
      ]
     },
     "execution_count": 18,
     "metadata": {},
     "output_type": "execute_result"
    }
   ],
   "source": [
    "A= sp.Matrix([\n",
    "    [1,3,8],\n",
    "    [2,1,6],\n",
    "    [1,0,2]\n",
    "])\n",
    "\n",
    "A.rref()"
   ]
  }
 ],
 "metadata": {
  "interpreter": {
   "hash": "8d86c190dfcadcdaa67edec4a1ea82702241987b5b1f320c920d3d4ca36fee5b"
  },
  "kernelspec": {
   "display_name": "Python 3.9.7 ('base')",
   "language": "python",
   "name": "python3"
  },
  "language_info": {
   "codemirror_mode": {
    "name": "ipython",
    "version": 3
   },
   "file_extension": ".py",
   "mimetype": "text/x-python",
   "name": "python",
   "nbconvert_exporter": "python",
   "pygments_lexer": "ipython3",
   "version": "3.9.7"
  },
  "orig_nbformat": 4
 },
 "nbformat": 4,
 "nbformat_minor": 2
}
