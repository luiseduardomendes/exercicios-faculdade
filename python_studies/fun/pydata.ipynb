{
 "cells": [
  {
   "cell_type": "code",
   "execution_count": 109,
   "metadata": {},
   "outputs": [],
   "source": [
    "from random import randint\n",
    "\n",
    "class RandomChampionGenerator:\n",
    "    def __init__(self, file):\n",
    "        self.data = {}\n",
    "        self.__used_status__ = {}\n",
    "\n",
    "        with open(file) as f:\n",
    "            for line in f:\n",
    "                \n",
    "                line = line.removesuffix('\\n')\n",
    "                temp = line.split(',')\n",
    "                key = temp[0]\n",
    "                \n",
    "                roles = temp[temp.index('role') + 1 : temp.index('class')]\n",
    "                classes =  temp[temp.index('class') + 1:]\n",
    "\n",
    "                self.data[key] = {\n",
    "                    'roles' : roles,\n",
    "                    'classes' : classes,\n",
    "                }\n",
    "            f.close()\n",
    "        self.__clear_used_status__()\n",
    "\n",
    "    def get_random_champion(self, c, r, repeat=False):\n",
    "        d = []\n",
    "        for key in self.data.keys():\n",
    "            if (c == 'any' or c in self.data[key]['classes']) and (r == 'any' or r in self.data[key]['roles']) and self.is_available(key):\n",
    "                d.append(key)\n",
    "        if len(d) > 0:\n",
    "            key = d[randint(0,len(d))-1]\n",
    "            if not repeat:\n",
    "                self.__set_used_status__(key)\n",
    "            return(key)\n",
    "        else:\n",
    "            return('no_champion_available')\n",
    "\n",
    "    def __set_used_status__(self, champion, status = True):\n",
    "        self.__used_status__[champion] = status\n",
    "    \n",
    "    def __clear_used_status__(self):\n",
    "        for key in self.data.keys():\n",
    "            self.__used_status__[key] = False\n",
    "\n",
    "    def is_available(self, key):\n",
    "        return not self.__used_status__[key]\n",
    "\n",
    "    def reset(self):\n",
    "        self.__clear_used_status__()\n",
    "\n",
    "    def get_std_comp(self):\n",
    "        temp = {\n",
    "            'top laner'     : self.get_random_champion('any', 'top laner'),\n",
    "            'jungler'       : self.get_random_champion('any', 'jungler'),\n",
    "            'mid laner'     : self.get_random_champion('any', 'mid laner'),\n",
    "            'ad carry'      : self.get_random_champion('any', 'ad carry'),\n",
    "            'support'       : self.get_random_champion('any', 'support')\n",
    "        }\n",
    "        self.__clear_used_status__()\n",
    "        return(temp)\n",
    "\n",
    "    def get_random_comp(self):\n",
    "        temp = {\n",
    "            'top laner'     : self.get_random_champion('any', 'any'),\n",
    "            'jungler'       : self.get_random_champion('any', 'any'),\n",
    "            'mid laner'     : self.get_random_champion('any', 'any'),\n",
    "            'ad carry'      : self.get_random_champion('any', 'any'),\n",
    "            'support'       : self.get_random_champion('any', 'any')\n",
    "        }\n",
    "        self.__clear_used_status__()\n",
    "        return(temp)\n",
    "\n",
    "    def get_one_class_comp(self, c):\n",
    "        temp = {\n",
    "            'top laner'     : self.get_random_champion(c, 'any'),\n",
    "            'jungler'       : self.get_random_champion(c, 'any'),\n",
    "            'mid laner'     : self.get_random_champion(c, 'any'),\n",
    "            'ad carry'      : self.get_random_champion(c, 'any'),\n",
    "            'support'       : self.get_random_champion(c, 'any')\n",
    "        }\n",
    "        self.__clear_used_status__()\n",
    "        return(temp)\n",
    "\n",
    "    def get_one_role_comp(self, r):\n",
    "        temp = {\n",
    "            'top laner'     : self.get_random_champion('any', r),\n",
    "            'jungler'       : self.get_random_champion('any', r),\n",
    "            'mid laner'     : self.get_random_champion('any', r),\n",
    "            'ad carry'      : self.get_random_champion('any', r),\n",
    "            'support'       : self.get_random_champion('any', r)\n",
    "        }\n",
    "        self.__clear_used_status__()\n",
    "        return(temp)\n",
    "\n",
    "    def get_spc_comp(self,\n",
    "        rtop = 'any', ctop = 'any', rjg = 'any', cjg = 'any', rmid = 'any', cmid = 'any', radc = 'any', cadc = 'any', rsup = 'any', csup = 'any'):\n",
    "        temp = {\n",
    "            'top laner'     : self.get_random_champion(ctop, rtop),\n",
    "            'jungler'       : self.get_random_champion(cjg, rjg),\n",
    "            'mid laner'     : self.get_random_champion(cmid, rmid),\n",
    "            'ad carry'      : self.get_random_champion(cadc, radc),\n",
    "            'support'       : self.get_random_champion(csup, rsup)\n",
    "        }\n",
    "        self.__clear_used_status__()\n",
    "        return(temp)\n",
    "        \n",
    "        \n",
    "\n",
    "rgc = RandomChampionGenerator('data.csv')\n",
    "\n",
    "\n",
    "\n",
    "\n",
    "\n"
   ]
  },
  {
   "cell_type": "code",
   "execution_count": 106,
   "metadata": {},
   "outputs": [
    {
     "data": {
      "text/plain": [
       "{'top laner': \"Rek'Sai\",\n",
       " 'jungler': 'Kindred',\n",
       " 'mid laner': 'Shyvana',\n",
       " 'ad carry': 'Teemo',\n",
       " 'support': 'Ivern'}"
      ]
     },
     "execution_count": 106,
     "metadata": {},
     "output_type": "execute_result"
    }
   ],
   "source": [
    "rgc.get_random_comp()"
   ]
  },
  {
   "cell_type": "code",
   "execution_count": 107,
   "metadata": {},
   "outputs": [
    {
     "data": {
      "text/plain": [
       "{'top laner': \"Kha'Zix\",\n",
       " 'jungler': 'Talon',\n",
       " 'mid laner': 'Elise',\n",
       " 'ad carry': 'Katarina',\n",
       " 'support': 'Evelynn'}"
      ]
     },
     "execution_count": 107,
     "metadata": {},
     "output_type": "execute_result"
    }
   ],
   "source": [
    "rgc.get_one_class_comp('rogue')"
   ]
  },
  {
   "cell_type": "code",
   "execution_count": 108,
   "metadata": {},
   "outputs": [
    {
     "data": {
      "text/plain": [
       "{'top laner': 'Jinx',\n",
       " 'jungler': 'Caitlyn',\n",
       " 'mid laner': 'Tristana',\n",
       " 'ad carry': 'Vex',\n",
       " 'support': 'Ezreal'}"
      ]
     },
     "execution_count": 108,
     "metadata": {},
     "output_type": "execute_result"
    }
   ],
   "source": [
    "rgc.get_one_role_comp('ad carry')"
   ]
  },
  {
   "cell_type": "code",
   "execution_count": 114,
   "metadata": {},
   "outputs": [
    {
     "data": {
      "text/plain": [
       "{'top laner': 'Talon',\n",
       " 'jungler': 'Lee Sin',\n",
       " 'mid laner': 'Neeko',\n",
       " 'ad carry': 'Ziggs',\n",
       " 'support': \"Vel'Koz\"}"
      ]
     },
     "execution_count": 114,
     "metadata": {},
     "output_type": "execute_result"
    }
   ],
   "source": [
    "rgc.get_std_comp()"
   ]
  }
 ],
 "metadata": {
  "kernelspec": {
   "display_name": "Python 3.9.12 ('base')",
   "language": "python",
   "name": "python3"
  },
  "language_info": {
   "codemirror_mode": {
    "name": "ipython",
    "version": 3
   },
   "file_extension": ".py",
   "mimetype": "text/x-python",
   "name": "python",
   "nbconvert_exporter": "python",
   "pygments_lexer": "ipython3",
   "version": "3.9.12"
  },
  "orig_nbformat": 4,
  "vscode": {
   "interpreter": {
    "hash": "02c1b4ef390a5efa9184e7809e1c04e02d7699a783b26d72e51ddd5cfed96e3f"
   }
  }
 },
 "nbformat": 4,
 "nbformat_minor": 2
}
