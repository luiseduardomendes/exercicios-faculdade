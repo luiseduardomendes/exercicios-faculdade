{
 "cells": [
  {
   "cell_type": "markdown",
   "metadata": {},
   "source": [
    "## 7.7 Exercício 2\n",
    "Dadas as funções, calcule sua derivada de primeira ordem e sua primitiva (integral sem limites de integração).\n",
    "$$ A(x) = e^x $$\n",
    "\n",
    "$$ B(x) = x^3 $$\n",
    "\n",
    "$$ C(x) = 1/x $$\n",
    "\n",
    "Nota: O sympy não acrescenta constantes para integrais indefinidas, elas devem ser acrescentadas manualmente.\n"
   ]
  },
  {
   "cell_type": "code",
   "execution_count": 26,
   "metadata": {},
   "outputs": [
    {
     "data": {
      "image/png": "[encoded data removed]",
      "text/latex": [
       "$\\displaystyle \\log{\\left(x \\right)}$"
      ],
      "text/plain": [
       "log(x)"
      ]
     },
     "execution_count": 26,
     "metadata": {},
     "output_type": "execute_result"
    }
   ],
   "source": [
    "import sympy as sp\n",
    "sp.init_printing()\n",
    "\n",
    "x = sp.symbols('x')\n",
    "\n",
    "A = sp.exp(x)\n",
    "B = x**3\n",
    "C = 1/x\n",
    "\n",
    "dAdx = sp.diff(A, x)\n",
    "intAdx = sp.integrate(A, x)\n",
    "\n",
    "dBdx = sp.diff(B, x)\n",
    "intBdx = sp.integrate(B, x)\n",
    "\n",
    "dCdx = sp.diff(C, x)\n",
    "intCdx = sp.integrate(C, x)"
   ]
  }
 ],
 "metadata": {
  "interpreter": {
   "hash": "e1d67b35190c898c5b7e02a2e88c487c8bf4962507eec571cc8a46f2eb7e1767"
  },
  "kernelspec": {
   "display_name": "Python 3.9.7 ('base')",
   "language": "python",
   "name": "python3"
  },
  "language_info": {
   "codemirror_mode": {
    "name": "ipython",
    "version": 3
   },
   "file_extension": ".py",
   "mimetype": "text/x-python",
   "name": "python",
   "nbconvert_exporter": "python",
   "pygments_lexer": "ipython3",
   "version": "3.9.7"
  },
  "orig_nbformat": 4
 },
 "nbformat": 4,
 "nbformat_minor": 2
}
