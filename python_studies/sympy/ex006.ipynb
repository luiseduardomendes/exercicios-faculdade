{
 "cells": [
  {
   "cell_type": "markdown",
   "metadata": {},
   "source": [
    "## 7.12 Desafio 1\n",
    "Calcule a área da superfície de uma semi-esfera baseada em sua equação: \n",
    "$x^2+y^2+z^2=100$\n",
    "\n",
    "**Equação paramétrica da esfera:**\n",
    "$$\n",
    "  \\sigma (\\theta , \\phi) =\n",
    "  \\begin{cases}\n",
    "  x = r.sen(\\phi).cos(\\theta) \\\\\\\\\n",
    "  y = r.sen(\\phi).sen(\\theta) \\\\\\\\\n",
    "  z = r.cos(\\phi)\n",
    "\\end{cases}\n",
    "$$\n",
    "\n",
    "**A área de $\\sigma$ pode ser calculada como:**\n",
    "\n",
    "$$ A_\\sigma = \\iint_{K} \\Big|\\Big| \\frac{\\partial\\sigma}{\\partial\\theta}  \\land  \\frac{\\partial\\sigma}{\\partial\\phi} \\Big|\\Big| d\\theta d\\phi  $$\n",
    "\n",
    "Considere a semi-esfera: $ 0 \\le \\phi \\le \\pi/2 $ e $ 0 \\le \\theta \\le 2\\pi $\n",
    "\n",
    "Referências:\n",
    "- GUIDORIZZI, Hamilton Luiz. Um curso de cálculo volume 3. 5a edição, LTC, 2002.\n",
    "- https://www.ime.unicamp.br/~valle/Teaching/MA211/Aula23.pdf\n",
    "- https://socratic.org/questions/58e321437c014904021733e9"
   ]
  },
  {
   "cell_type": "code",
   "execution_count": 68,
   "metadata": {},
   "outputs": [
    {
     "data": {
      "image/png": "[encoded data removed]",
      "text/latex": [
       "$\\displaystyle 2 \\pi \\sqrt{r^{4}}$"
      ],
      "text/plain": [
       "       ____\n",
       "      ╱  4 \n",
       "2⋅π⋅╲╱  r  "
      ]
     },
     "execution_count": 68,
     "metadata": {},
     "output_type": "execute_result"
    }
   ],
   "source": [
    "import sympy as sp\n",
    "sp.init_printing()\n",
    "\n",
    "r, phi, theta = sp.symbols(['r','phi', 'theta'])\n",
    "x,y,z = sp.symbols(['x', 'y', 'z'])\n",
    "\n",
    "x = r * sp.sin(phi) * sp.cos(theta)\n",
    "y = r * sp.sin(phi) * sp.sin(theta)\n",
    "z = r * sp.cos(phi)\n",
    "\n",
    "iv,jv,kv = sp.symbols(['iv', 'jv', 'kv'])\n",
    "\n",
    "vx = (sp.diff(y, theta) * sp.diff(z, phi)) - (sp.diff(y, phi) * sp.diff(z, theta))\n",
    "vy = (sp.diff(z, theta) * sp.diff(x, phi)) - (sp.diff(x, theta) * sp.diff(z, phi))\n",
    "vz = (sp.diff(x, theta) * sp.diff(y, phi)) - (sp.diff(x, phi) * sp.diff(y, theta))\n",
    "\n",
    "sp.integrate(sp.sqrt(vx**2 + vy**2 + vz**2), (theta, 0, 2*sp.pi), (phi, 0, sp.pi/2))\n"
   ]
  },
  {
   "cell_type": "code",
   "execution_count": 70,
   "metadata": {},
   "outputs": [
    {
     "data": {
      "text/latex": [
       "$\\displaystyle \\left[\\begin{matrix}r \\sin{\\left(\\phi \\right)} \\cos{\\left(\\theta \\right)}\\\\r \\sin{\\left(\\phi \\right)} \\sin{\\left(\\theta \\right)}\\\\r \\cos{\\left(\\phi \\right)}\\end{matrix}\\right]$"
      ],
      "text/plain": [
       "⎡r⋅sin(φ)⋅cos(θ)⎤\n",
       "⎢               ⎥\n",
       "⎢r⋅sin(φ)⋅sin(θ)⎥\n",
       "⎢               ⎥\n",
       "⎣   r⋅cos(φ)    ⎦"
      ]
     },
     "execution_count": 70,
     "metadata": {},
     "output_type": "execute_result"
    }
   ],
   "source": [
    "import sympy as sp\n",
    "sp.init_printing()\n",
    "\n",
    "r, phi, theta = sp.symbols(['r','phi', 'theta'])\n",
    "x,y,z = sp.symbols(['x', 'y', 'z'])\n",
    "\n",
    "x = r * sp.sin(phi) * sp.cos(theta)\n",
    "y = r * sp.sin(phi) * sp.sin(theta)\n",
    "z = r * sp.cos(phi)\n",
    "\n",
    "sigma sp.Matrix([x,y,z])"
   ]
  }
 ],
 "metadata": {
  "interpreter": {
   "hash": "e1d67b35190c898c5b7e02a2e88c487c8bf4962507eec571cc8a46f2eb7e1767"
  },
  "kernelspec": {
   "display_name": "Python 3.9.7 ('base')",
   "language": "python",
   "name": "python3"
  },
  "language_info": {
   "codemirror_mode": {
    "name": "ipython",
    "version": 3
   },
   "file_extension": ".py",
   "mimetype": "text/x-python",
   "name": "python",
   "nbconvert_exporter": "python",
   "pygments_lexer": "ipython3",
   "version": "3.9.7"
  },
  "orig_nbformat": 4
 },
 "nbformat": 4,
 "nbformat_minor": 2
}
