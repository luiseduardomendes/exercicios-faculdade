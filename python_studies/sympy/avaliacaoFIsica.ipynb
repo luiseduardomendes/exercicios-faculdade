{
 "cells": [
  {
   "cell_type": "code",
   "execution_count": 45,
   "metadata": {},
   "outputs": [
    {
     "data": {
      "text/latex": [
       "$\\displaystyle \\left[\\begin{matrix}\\frac{5 R}{2} & R & 0\\\\\\frac{5 R}{2} & 0 & - R\\\\0 & R & R\\end{matrix}\\right]$"
      ],
      "text/plain": [
       "⎡5⋅R       ⎤\n",
       "⎢───  R  0 ⎥\n",
       "⎢ 2        ⎥\n",
       "⎢          ⎥\n",
       "⎢5⋅R       ⎥\n",
       "⎢───  0  -R⎥\n",
       "⎢ 2        ⎥\n",
       "⎢          ⎥\n",
       "⎣ 0   R  R ⎦"
      ]
     },
     "execution_count": 45,
     "metadata": {},
     "output_type": "execute_result"
    }
   ],
   "source": [
    "import sympy as sp\n",
    "\n",
    "sp.init_printing()\n",
    "u, R = sp.symbols(['u', 'R'])\n",
    "\n",
    "A = sp.Matrix([[5*R/2, R, 0], [5*R/2, 0, -R], [0, R, R]])\n",
    "A"
   ]
  },
  {
   "cell_type": "code",
   "execution_count": 50,
   "metadata": {},
   "outputs": [
    {
     "data": {
      "image/png": "[encoded data removed]",
      "text/latex": [
       "$\\displaystyle \\left\\{\\left( \\frac{2 x_{3}}{5} + \\frac{4 u}{5 R}, \\  - x_{3} - \\frac{u}{R}, \\  x_{3}\\right)\\right\\}$"
      ],
      "text/plain": [
       "⎧⎛2⋅x₃   4⋅u        u    ⎞⎫\n",
       "⎨⎜──── + ───, -x₃ - ─, x₃⎟⎬\n",
       "⎩⎝ 5     5⋅R        R    ⎠⎭"
      ]
     },
     "execution_count": 50,
     "metadata": {},
     "output_type": "execute_result"
    }
   ],
   "source": [
    "x1, x2, x3 = sp.symbols(['x1', 'x2', 'x3'])\n",
    "\n",
    "X = sp.Matrix ([x1,x2,x3])\n",
    "R = sp.Matrix ([u, 2*u, -u])\n",
    "\n",
    "sp.linsolve((A, R),[x1,x2,x3])\n"
   ]
  },
  {
   "cell_type": "code",
   "execution_count": 52,
   "metadata": {},
   "outputs": [
    {
     "data": {
      "image/png": "[encoded data removed]",
      "text/latex": [
       "$\\displaystyle 4.23394683026585$"
      ],
      "text/plain": [
       "4.2339468302658485"
      ]
     },
     "execution_count": 52,
     "metadata": {},
     "output_type": "execute_result"
    }
   ],
   "source": [
    "(8 * 12.94) / (5 * 4.89)"
   ]
  },
  {
   "cell_type": "code",
   "execution_count": 185,
   "metadata": {},
   "outputs": [
    {
     "data": {
      "image/png": "[encoded data removed]",
      "text/latex": [
       "$\\displaystyle \\left[ 0.085185699272273, \\  0.0854633062996966, \\  0.000277607027423608\\right]$"
      ],
      "text/plain": [
       "[0.08518569927227301, 0.08546330629969662, 0.0002776070274236085]"
      ]
     },
     "execution_count": 185,
     "metadata": {},
     "output_type": "execute_result"
    }
   ],
   "source": [
    "\n",
    "E1 = 31\n",
    "E2 = 49\n",
    "E3 = 41\n",
    "R1 = 118\n",
    "R2 = 93\n",
    "R3 = 187\n",
    "\n",
    "A = sp.Matrix([[-1,1,-1], [-R1, -R2, 0], [0, R2, R3]])\n",
    "R = sp.Matrix([0, E1 - E2, E2 - E3])\n",
    "\n",
    "i1, i2, i3 = sp.symbols(['i1', 'i2', 'i3'])\n",
    "\n",
    "X = sp.Matrix ([i1, i2, i3])\n",
    "Resp = sp.linsolve((A, R), [i1, i2, i3])\n",
    "t = [s for s in Resp]\n",
    "i = [float(_) for _ in t[0]]\n",
    "i"
   ]
  }
 ],
 "metadata": {
  "interpreter": {
   "hash": "8d86c190dfcadcdaa67edec4a1ea82702241987b5b1f320c920d3d4ca36fee5b"
  },
  "kernelspec": {
   "display_name": "Python 3.9.7 ('base')",
   "language": "python",
   "name": "python3"
  },
  "language_info": {
   "codemirror_mode": {
    "name": "ipython",
    "version": 3
   },
   "file_extension": ".py",
   "mimetype": "text/x-python",
   "name": "python",
   "nbconvert_exporter": "python",
   "pygments_lexer": "ipython3",
   "version": "3.9.7"
  },
  "orig_nbformat": 4
 },
 "nbformat": 4,
 "nbformat_minor": 2
}
