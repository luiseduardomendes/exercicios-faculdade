{
 "cells": [
  {
   "cell_type": "markdown",
   "metadata": {},
   "source": [
    "`findall()` find all occurences of a pattern\n",
    "\n",
    "`search()` returns the first occurrency of a pattern\n",
    "\n",
    "`sub()` replaces a text in a pattern\n",
    "\n",
    "`compile()` "
   ]
  },
  {
   "cell_type": "code",
   "execution_count": 23,
   "metadata": {},
   "outputs": [
    {
     "name": "stdout",
     "output_type": "stream",
     "text": [
      "std::\n"
     ]
    }
   ],
   "source": [
    "import re\n",
    "\n",
    "string = '10.5     0.25     12534     std::cout(), std::vector'\n",
    "\n",
    "print(re.search(r'std', string))\n",
    "\n",
    "print(re.findall(r'std::', string))\n",
    "\n",
    "print(re.sub(r'std::', '', string, count=1))\n",
    "# count parameter is the number of occurrencies that must be replaced\n",
    " \n",
    "pattern = re.compile(r'std::')\n",
    "print(pattern.search(string))\n",
    "print(pattern.findall(string))\n",
    "print(pattern.sub('', string, count=1))\n",
    "\n",
    "\n",
    "match = pattern.search(string)\n",
    "print(string[match.start():match.end()])"
   ]
  },
  {
   "cell_type": "markdown",
   "metadata": {},
   "source": [
    "'|' (pipe) means 'or'\n",
    "'.' (point) any character except '\\n'\n",
    "'[]' (brackets) characters set"
   ]
  },
  {
   "cell_type": "code",
   "execution_count": 34,
   "metadata": {},
   "outputs": [
    {
     "name": "stdout",
     "output_type": "stream",
     "text": [
      "['std::cout']\n"
     ]
    }
   ],
   "source": [
    "string = 'std::cout(), Cout()'\n",
    "\n",
    "print(re.findall(r'.+cout|cout', string))"
   ]
  },
  {
   "cell_type": "code",
   "execution_count": 36,
   "metadata": {},
   "outputs": [
    {
     "name": "stdout",
     "output_type": "stream",
     "text": [
      "['cout', 'Cout']\n"
     ]
    }
   ],
   "source": [
    "print(re.findall(r'[Cc]out', string))"
   ]
  },
  {
   "cell_type": "code",
   "execution_count": 47,
   "metadata": {},
   "outputs": [
    {
     "name": "stdout",
     "output_type": "stream",
     "text": [
      "['cat', 'bat']\n",
      "['cat', 'bat', 'rat']\n",
      "['cat', 'bat', 'rat', 'Cat', 'Bat', 'Rat']\n",
      "['cat', 'bat', 'rat', 'Cat', 'Bat', 'Rat']\n"
     ]
    }
   ],
   "source": [
    "new_string = 'cat, bat, rat, Cat, Bat, Rat'\n",
    "print(re.findall(r'[bc]at', new_string))\n",
    "print(re.findall(r'[a-z]at', new_string))\n",
    "print(re.findall(r'[a-zA-Z]at', new_string))\n",
    "print(re.findall(r'[a-z]at', new_string, flags=re.I))"
   ]
  },
  {
   "cell_type": "markdown",
   "metadata": {},
   "source": [
    "## Quantifiers\n",
    "'*' 0 or more times\n",
    "\n",
    "'+' 1 or more times\n",
    "\n",
    "'?' 0 or 1 times\n",
    "\n",
    "'{n}' n times\n",
    "\n",
    "'{a,b}' a to b times\n",
    "\n",
    "'{,n}' 0 to n times\n",
    "\n",
    "'{n,}' n or more times"
   ]
  },
  {
   "cell_type": "code",
   "execution_count": 53,
   "metadata": {},
   "outputs": [
    {
     "name": "stdout",
     "output_type": "stream",
     "text": [
      "['std::']\n",
      "cout(), cout()\n"
     ]
    }
   ],
   "source": [
    "print(re.findall(r'.+::', string))\n",
    "print(re.sub(r'(.+::)*[cC]out', 'cout', string))"
   ]
  },
  {
   "cell_type": "markdown",
   "metadata": {},
   "source": [
    "## Greedy quantifiers\n",
    "\n",
    "'?' information non-greedy / lazy"
   ]
  },
  {
   "cell_type": "code",
   "execution_count": 69,
   "metadata": {},
   "outputs": [
    {
     "name": "stdout",
     "output_type": "stream",
     "text": [
      "['<p>frase1</p>', '<p></p>', '<div>frase3</div>']\n"
     ]
    }
   ],
   "source": [
    "html_text = '<p>frase1</p> <p></p> <div>frase3</div>'\n",
    "\n",
    "print(re.findall(r'<[pdiv]{1,3}>.*?<\\/[pdiv]{1,3}>', html_text, ))"
   ]
  },
  {
   "cell_type": "markdown",
   "metadata": {},
   "source": [
    "## Groups and retrovisores\n",
    "\n",
    "'(text)' finds the exact text\n",
    " - accepts quantifiers\n",
    "\n",
    "'(?:)' dont save the referent group\n",
    "\n",
    "'(?P< name >)' named group\n"
   ]
  }
 ],
 "metadata": {
  "interpreter": {
   "hash": "e1d67b35190c898c5b7e02a2e88c487c8bf4962507eec571cc8a46f2eb7e1767"
  },
  "kernelspec": {
   "display_name": "Python 3.9.7 ('base')",
   "language": "python",
   "name": "python3"
  },
  "language_info": {
   "codemirror_mode": {
    "name": "ipython",
    "version": 3
   },
   "file_extension": ".py",
   "mimetype": "text/x-python",
   "name": "python",
   "nbconvert_exporter": "python",
   "pygments_lexer": "ipython3",
   "version": "3.9.7"
  },
  "orig_nbformat": 4
 },
 "nbformat": 4,
 "nbformat_minor": 2
}
