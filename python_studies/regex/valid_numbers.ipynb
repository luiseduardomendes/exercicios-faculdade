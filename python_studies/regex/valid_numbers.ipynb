{
 "cells": [
  {
   "cell_type": "code",
   "execution_count": 13,
   "metadata": {},
   "outputs": [],
   "source": [
    "import re\n",
    "\n",
    "num_pattern = re.compile(r'^[+-]?\\d+(?:\\.\\d+)?$',flags=re.M)\n",
    "\n",
    "numbers = '''\n",
    "0.0\n",
    "00.00\n",
    "000.000\n",
    "+0.0\n",
    "-00.00\n",
    "+000.000\n",
    "10\n",
    "50\n",
    "8.5\n",
    "-8.5\n",
    "+10.5005412136\n",
    "\n",
    "..2\n",
    "..1235050\n",
    ".124546\n",
    "-.1231324\n",
    "10.\n",
    "+10.\n",
    "-10.\n",
    "5a\n",
    "b5\n",
    "'''"
   ]
  },
  {
   "cell_type": "code",
   "execution_count": 14,
   "metadata": {},
   "outputs": [
    {
     "data": {
      "text/plain": [
       "['0.0',\n",
       " '00.00',\n",
       " '000.000',\n",
       " '+0.0',\n",
       " '-00.00',\n",
       " '+000.000',\n",
       " '10',\n",
       " '50',\n",
       " '8.5',\n",
       " '-8.5',\n",
       " '+10.5005412136']"
      ]
     },
     "execution_count": 14,
     "metadata": {},
     "output_type": "execute_result"
    }
   ],
   "source": [
    "num_pattern.findall(numbers)"
   ]
  }
 ],
 "metadata": {
  "interpreter": {
   "hash": "e1d67b35190c898c5b7e02a2e88c487c8bf4962507eec571cc8a46f2eb7e1767"
  },
  "kernelspec": {
   "display_name": "Python 3.9.7 ('base')",
   "language": "python",
   "name": "python3"
  },
  "language_info": {
   "codemirror_mode": {
    "name": "ipython",
    "version": 3
   },
   "file_extension": ".py",
   "mimetype": "text/x-python",
   "name": "python",
   "nbconvert_exporter": "python",
   "pygments_lexer": "ipython3",
   "version": "3.9.7"
  },
  "orig_nbformat": 4
 },
 "nbformat": 4,
 "nbformat_minor": 2
}
