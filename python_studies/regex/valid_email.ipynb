{
 "cells": [
  {
   "cell_type": "code",
   "execution_count": 13,
   "metadata": {},
   "outputs": [],
   "source": [
    "import re\n",
    "\n",
    "pattern_emails = re.compile(r'''\n",
    "^(?!.*(?:\\.){2,})[A-Za-z\\d\\!-\\'\\*\\+\\--\\/\\=\\?\\^_`\\{\\|\\}~](?<!\\.)[A-Za-z\\d\\!-\\'\\*\\+\\--\\/\\=\\?\\^_`\\{\\|\\}~]+[a-zA-Z0-9]@[\\w\\d\\-\\.\\[\\]]+$\n",
    "''', flags=re.VERBOSE | re.M)"
   ]
  },
  {
   "cell_type": "code",
   "execution_count": 14,
   "metadata": {},
   "outputs": [],
   "source": [
    "emails = '''\n",
    "\n",
    "email@example.com\n",
    "firstname.lastname@example.com\n",
    "email@subdomain.example.com\n",
    "firstname+lastname@example.com\n",
    "email@123.123.123.123\n",
    "email@[123.123.123.123]\n",
    "\"email\"@example.com\n",
    "1234567890@example.com\n",
    "email@example-one.com\n",
    "_______@example.com\n",
    "email@example.name\n",
    "email@example.museum\n",
    "email@example.co.jp\n",
    "firstname-lastname@example.com\n",
    "\n",
    "\n",
    "\n",
    "List of Strange Valid Email Addresses\n",
    "\n",
    "much.”more\\ unusual”@example.com\n",
    "very.unusual.”@”.unusual.com@example.com\n",
    "very.”(),:;<>[]”.VERY.”very@\\\\ \"very”.unusual@strange.example.com\n",
    "\n",
    "\n",
    "\n",
    "List of Invalid Email Addresses\n",
    "\n",
    "plainaddress\n",
    "#@%^%#$@#$@#.com\n",
    "@example.com\n",
    "Joe Smith <email@example.com>\n",
    "email.example.com\n",
    "email@example@example.com\n",
    ".email@example.com\n",
    "email.@example.com\n",
    "email..email@example.com\n",
    "あいうえお@example.com\n",
    "email@example.com (Joe Smith)\n",
    "email@example\n",
    "email@-example.com\n",
    "email@example.web\n",
    "email@111.222.333.44444\n",
    "email@example..com\n",
    "Abc..123@example.com\n",
    "\n",
    "\n",
    "\n",
    "List of Strange Invalid Email Addresses\n",
    "\n",
    "”(),:;<>[\\]@example.com\n",
    "just”not”right@example.com\n",
    "this\\ is\"really\"not\\allowed@example.com\n",
    "\n",
    "'''"
   ]
  },
  {
   "cell_type": "code",
   "execution_count": 15,
   "metadata": {},
   "outputs": [
    {
     "data": {
      "text/plain": [
       "['email@example.com',\n",
       " 'firstname.lastname@example.com',\n",
       " 'email@subdomain.example.com',\n",
       " 'firstname+lastname@example.com',\n",
       " 'email@123.123.123.123',\n",
       " 'email@[123.123.123.123]',\n",
       " '1234567890@example.com',\n",
       " 'email@example-one.com',\n",
       " 'email@example.name',\n",
       " 'email@example.museum',\n",
       " 'email@example.co.jp',\n",
       " 'firstname-lastname@example.com',\n",
       " 'email@example',\n",
       " 'email@-example.com',\n",
       " 'email@example.web',\n",
       " 'email@111.222.333.44444']"
      ]
     },
     "execution_count": 15,
     "metadata": {},
     "output_type": "execute_result"
    }
   ],
   "source": [
    "pattern_emails.findall(emails)"
   ]
  }
 ],
 "metadata": {
  "interpreter": {
   "hash": "e1d67b35190c898c5b7e02a2e88c487c8bf4962507eec571cc8a46f2eb7e1767"
  },
  "kernelspec": {
   "display_name": "Python 3.9.7 ('base')",
   "language": "python",
   "name": "python3"
  },
  "language_info": {
   "codemirror_mode": {
    "name": "ipython",
    "version": 3
   },
   "file_extension": ".py",
   "mimetype": "text/x-python",
   "name": "python",
   "nbconvert_exporter": "python",
   "pygments_lexer": "ipython3",
   "version": "3.9.7"
  },
  "orig_nbformat": 4
 },
 "nbformat": 4,
 "nbformat_minor": 2
}
