{
 "cells": [
  {
   "cell_type": "markdown",
   "metadata": {},
   "source": [
    "`findall()` find all occurences of a pattern\n",
    "\n",
    "`search()` returns the first occurrency of a pattern\n",
    "\n",
    "`sub()` replaces a text in a pattern\n",
    "\n",
    "`compile()` "
   ]
  },
  {
   "cell_type": "code",
   "execution_count": 2,
   "metadata": {},
   "outputs": [
    {
     "name": "stdout",
     "output_type": "stream",
     "text": [
      "<re.Match object; span=(28, 31), match='std'>\n",
      "['std::', 'std::']\n",
      "10.5     0.25     12534     cout(), std::vector\n",
      "<re.Match object; span=(28, 33), match='std::'>\n",
      "['std::', 'std::']\n",
      "10.5     0.25     12534     cout(), std::vector\n",
      "std::\n"
     ]
    }
   ],
   "source": [
    "import re\n",
    "\n",
    "string = '10.5     0.25     12534     std::cout(), std::vector'\n",
    "\n",
    "print(re.search(r'std', string))\n",
    "\n",
    "print(re.findall(r'std::', string))\n",
    "\n",
    "print(re.sub(r'std::', '', string, count=1))\n",
    "# count parameter is the number of occurrencies that must be replaced\n",
    " \n",
    "pattern = re.compile(r'std::')\n",
    "print(pattern.search(string))\n",
    "print(pattern.findall(string))\n",
    "print(pattern.sub('', string, count=1))\n",
    "\n",
    "\n",
    "match = pattern.search(string)\n",
    "print(string[match.start():match.end()])"
   ]
  },
  {
   "cell_type": "markdown",
   "metadata": {},
   "source": [
    "'|' (pipe) means 'or'\n",
    "'.' (point) any character except '\\n'\n",
    "'[]' (brackets) characters set"
   ]
  },
  {
   "cell_type": "code",
   "execution_count": 3,
   "metadata": {},
   "outputs": [
    {
     "name": "stdout",
     "output_type": "stream",
     "text": [
      "['std::cout']\n"
     ]
    }
   ],
   "source": [
    "string = 'std::cout(), Cout()'\n",
    "\n",
    "print(re.findall(r'.+cout|cout', string))"
   ]
  },
  {
   "cell_type": "code",
   "execution_count": 4,
   "metadata": {},
   "outputs": [
    {
     "name": "stdout",
     "output_type": "stream",
     "text": [
      "['cout', 'Cout']\n"
     ]
    }
   ],
   "source": [
    "print(re.findall(r'[Cc]out', string))"
   ]
  },
  {
   "cell_type": "code",
   "execution_count": 5,
   "metadata": {},
   "outputs": [
    {
     "name": "stdout",
     "output_type": "stream",
     "text": [
      "['cat', 'bat']\n",
      "['cat', 'bat', 'rat']\n",
      "['cat', 'bat', 'rat', 'Cat', 'Bat', 'Rat']\n",
      "['cat', 'bat', 'rat', 'Cat', 'Bat', 'Rat']\n"
     ]
    }
   ],
   "source": [
    "new_string = 'cat, bat, rat, Cat, Bat, Rat'\n",
    "print(re.findall(r'[bc]at', new_string))\n",
    "print(re.findall(r'[a-z]at', new_string))\n",
    "print(re.findall(r'[a-zA-Z]at', new_string))\n",
    "print(re.findall(r'[a-z]at', new_string, flags=re.I))"
   ]
  },
  {
   "cell_type": "markdown",
   "metadata": {},
   "source": [
    "## Quantifiers\n",
    "'*' 0 or more times\n",
    "\n",
    "'+' 1 or more times\n",
    "\n",
    "'?' 0 or 1 times\n",
    "\n",
    "'{n}' n times\n",
    "\n",
    "'{a,b}' a to b times\n",
    "\n",
    "'{,n}' 0 to n times\n",
    "\n",
    "'{n,}' n or more times"
   ]
  },
  {
   "cell_type": "code",
   "execution_count": 6,
   "metadata": {},
   "outputs": [
    {
     "name": "stdout",
     "output_type": "stream",
     "text": [
      "['std::']\n",
      "cout(), cout()\n"
     ]
    }
   ],
   "source": [
    "print(re.findall(r'.+::', string))\n",
    "print(re.sub(r'(.+::)*[cC]out', 'cout', string))"
   ]
  },
  {
   "cell_type": "markdown",
   "metadata": {},
   "source": [
    "## Greedy quantifiers\n",
    "\n",
    "'?' information non-greedy / lazy"
   ]
  },
  {
   "cell_type": "code",
   "execution_count": 7,
   "metadata": {},
   "outputs": [
    {
     "name": "stdout",
     "output_type": "stream",
     "text": [
      "['<p>frase1</p>', '<p></p>', '<div>frase3</div>']\n"
     ]
    }
   ],
   "source": [
    "html_text = '<p>frase1</p> <p></p> <div>frase3</div>'\n",
    "\n",
    "print(re.findall(r'<[pdiv]{1,3}>.*?<\\/[pdiv]{1,3}>', html_text, ))"
   ]
  },
  {
   "cell_type": "markdown",
   "metadata": {},
   "source": [
    "## Groups and retrovisores\n",
    "\n",
    "'(text)' finds the exact text\n",
    " - accepts quantifiers\n",
    "\n",
    "'(?:)' dont save the referent group\n",
    "\n",
    "'(?P< name >)' named group\n"
   ]
  },
  {
   "cell_type": "markdown",
   "metadata": {},
   "source": [
    "### Match in the begining or in the end\n",
    "\n",
    "`^` in the begin\n",
    "\n",
    "`$` in the end"
   ]
  },
  {
   "cell_type": "code",
   "execution_count": 12,
   "metadata": {},
   "outputs": [
    {
     "name": "stdout",
     "output_type": "stream",
     "text": [
      "['147.852.963-12']\n"
     ]
    }
   ],
   "source": [
    "cpf = '147.852.963-12'\n",
    "print(re.findall(r'^((?:[0-9]{3}\\.){2}[0-9]{3}-[0-9]{2})$', cpf))"
   ]
  },
  {
   "cell_type": "markdown",
   "metadata": {},
   "source": [
    "### different than a set of elements \n",
    "`[^a-z]` each element different than a-z"
   ]
  },
  {
   "cell_type": "code",
   "execution_count": 13,
   "metadata": {},
   "outputs": [
    {
     "name": "stdout",
     "output_type": "stream",
     "text": [
      "['.', '.', '-']\n"
     ]
    }
   ],
   "source": [
    "print(re.findall(r'[^0-9]+', cpf))"
   ]
  },
  {
   "cell_type": "markdown",
   "metadata": {},
   "source": [
    "# Shortranges and flags\n",
    "\n",
    "`re.I` = ignore case | `re.i`\n",
    "\n",
    "`re.A` = `re.ASCII` = ignore unicode\n",
    "\n",
    "`re.M` = multiline (transform ^ and $ into line comparison)\n",
    "\n",
    "`re.S` = Dotall (ignore line break)\n",
    "\n",
    "`\"\\w\"` = any character a | `\"\\W\"` negation  \n",
    "\n",
    "`\"\\d\"` = any digit | `\"\\D\"` negation\n",
    "\n",
    "`\"\\s\"` = any space | `\"\\S\"` negation\n",
    "\n",
    "`\"\\b\"` = border | `\"\\B\"` negation\n",
    "\n"
   ]
  },
  {
   "cell_type": "markdown",
   "metadata": {},
   "source": [
    "### border examples"
   ]
  },
  {
   "cell_type": "code",
   "execution_count": 14,
   "metadata": {},
   "outputs": [
    {
     "name": "stdout",
     "output_type": "stream",
     "text": [
      "['english', 'espanish']\n"
     ]
    }
   ],
   "source": [
    "#begins with \"e\"\n",
    "print(re.findall(r'\\b[e]\\w+', 'english espanish portuguese'))"
   ]
  },
  {
   "cell_type": "code",
   "execution_count": 20,
   "metadata": {},
   "outputs": [
    {
     "name": "stdout",
     "output_type": "stream",
     "text": [
      "['portuguese', 'chinese']\n"
     ]
    }
   ],
   "source": [
    "#ends with \"e\"\n",
    "print(re.findall(r'\\w+[e]\\b', 'english espanish portuguese chinese'))"
   ]
  },
  {
   "cell_type": "code",
   "execution_count": 22,
   "metadata": {},
   "outputs": [
    {
     "name": "stdout",
     "output_type": "stream",
     "text": [
      "['portuguese']\n"
     ]
    }
   ],
   "source": [
    "#begins with p and ends with e\n",
    "print(re.findall(r'\\bp\\w+e\\b', 'english espanish portuguese'))"
   ]
  },
  {
   "cell_type": "markdown",
   "metadata": {},
   "source": [
    "# Lookahead and Lookbehind\n",
    "\n",
    "positive lookahead verify if there's an expect text in the sequence of the match "
   ]
  },
  {
   "cell_type": "code",
   "execution_count": 43,
   "metadata": {},
   "outputs": [
    {
     "name": "stdout",
     "output_type": "stream",
     "text": [
      "['ONLINE 192.168.0.1', 'OFFLINE 192.168.0.2', 'OFFLINE 192.168.0.4']\n"
     ]
    }
   ],
   "source": [
    "#positive lookahead\n",
    "ips_connected = '''\n",
    "ONLINE 192.168.0.1 active\n",
    "OFFLINE 192.168.0.2 active\n",
    "ONLINE 192.168.0.3 inactive\n",
    "OFFLINE 192.168.0.4 active\n",
    "ONLINE 192.168.0.5 inactive\n",
    "OFFLINE 192.168.0.6 inactive\n",
    "'''\n",
    "\n",
    "print(re.findall(r'(\\w+\\s+[\\.\\d]+)\\s(?=active)', ips_connected))"
   ]
  },
  {
   "cell_type": "code",
   "execution_count": 44,
   "metadata": {},
   "outputs": [
    {
     "name": "stdout",
     "output_type": "stream",
     "text": [
      "['ONLINE 192.168.0.3', 'ONLINE 192.168.0.5', 'OFFLINE 192.168.0.6']\n"
     ]
    }
   ],
   "source": [
    "#negative lookahead\n",
    "print(re.findall(r'(\\w+\\s+[\\.\\d]+)\\s(?!active)', ips_connected))"
   ]
  },
  {
   "cell_type": "code",
   "execution_count": 48,
   "metadata": {},
   "outputs": [
    {
     "name": "stdout",
     "output_type": "stream",
     "text": [
      "['ONLINE 192.168.0.1 active', 'ONLINE 192.168.0.3 inactive', 'ONLINE 192.168.0.5 inactive']\n"
     ]
    }
   ],
   "source": [
    "#positive lookbehind\n",
    "print(re.findall(r'\\w+(?<=ONLINE)\\s+[\\.\\d]+\\s+\\w+', ips_connected))"
   ]
  },
  {
   "cell_type": "code",
   "execution_count": 50,
   "metadata": {},
   "outputs": [
    {
     "name": "stdout",
     "output_type": "stream",
     "text": [
      "['OFFLINE 192.168.0.2 active', 'OFFLINE 192.168.0.4 active', 'OFFLINE 192.168.0.6 inactive']\n"
     ]
    }
   ],
   "source": [
    "#negative lookbehind\n",
    "print(re.findall(r'\\w+(?<!ONLINE)\\s+[\\.\\d]+\\s+\\w+', ips_connected))"
   ]
  },
  {
   "cell_type": "code",
   "execution_count": 49,
   "metadata": {},
   "outputs": [
    {
     "name": "stdout",
     "output_type": "stream",
     "text": [
      "['ONLINE 192.168.0.1 active']\n"
     ]
    }
   ],
   "source": [
    "#positive lookbehind\n",
    "print(re.findall(r'\\w+(?<=ONLINE)\\s+[\\.\\d]+\\s+(?=active)\\w+', ips_connected))"
   ]
  }
 ],
 "metadata": {
  "interpreter": {
   "hash": "e1d67b35190c898c5b7e02a2e88c487c8bf4962507eec571cc8a46f2eb7e1767"
  },
  "kernelspec": {
   "display_name": "Python 3.9.7 ('base')",
   "language": "python",
   "name": "python3"
  },
  "language_info": {
   "codemirror_mode": {
    "name": "ipython",
    "version": 3
   },
   "file_extension": ".py",
   "mimetype": "text/x-python",
   "name": "python",
   "nbconvert_exporter": "python",
   "pygments_lexer": "ipython3",
   "version": "3.9.7"
  },
  "orig_nbformat": 4
 },
 "nbformat": 4,
 "nbformat_minor": 2
}
