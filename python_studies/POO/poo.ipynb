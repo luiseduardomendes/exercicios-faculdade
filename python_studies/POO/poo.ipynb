{
 "cells": [
  {
   "cell_type": "code",
   "execution_count": null,
   "metadata": {},
   "outputs": [],
   "source": []
  }
 ],
 "metadata": {
  "kernelspec": {
   "display_name": "base",
   "language": "python",
   "name": "python3"
  },
  "language_info": {
   "name": "python",
   "version": "3.9.12"
  },
  "orig_nbformat": 4,
  "vscode": {
   "interpreter": {
    "hash": "02c1b4ef390a5efa9184e7809e1c04e02d7699a783b26d72e51ddd5cfed96e3f"
   }
  }
 },
 "nbformat": 4,
 "nbformat_minor": 2
}
