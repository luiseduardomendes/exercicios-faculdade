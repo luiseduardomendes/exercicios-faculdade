{
 "cells": [
  {
   "cell_type": "code",
   "execution_count": 1,
   "metadata": {},
   "outputs": [
    {
     "name": "stdout",
     "output_type": "stream",
     "text": [
      "Collecting ibm_watson\n",
      "  Downloading ibm-watson-5.3.1.tar.gz (413 kB)\n",
      "  Installing build dependencies: started\n",
      "  Installing build dependencies: finished with status 'done'\n",
      "  Getting requirements to build wheel: started\n",
      "  Getting requirements to build wheel: finished with status 'done'\n",
      "    Preparing wheel metadata: started\n",
      "    Preparing wheel metadata: finished with status 'done'\n",
      "Requirement already satisfied: python-dateutil>=2.5.3 in e:\\anaconda\\lib\\site-packages (from ibm_watson) (2.8.2)\n",
      "Requirement already satisfied: requests<3.0,>=2.0 in e:\\anaconda\\lib\\site-packages (from ibm_watson) (2.26.0)\n",
      "Collecting websocket-client==1.1.0\n",
      "  Downloading websocket_client-1.1.0-py2.py3-none-any.whl (68 kB)\n",
      "Collecting ibm-cloud-sdk-core==3.*,>=3.3.6\n",
      "  Downloading ibm-cloud-sdk-core-3.14.0.tar.gz (50 kB)\n",
      "Requirement already satisfied: urllib3<2.0.0,>=1.26.0 in e:\\anaconda\\lib\\site-packages (from ibm-cloud-sdk-core==3.*,>=3.3.6->ibm_watson) (1.26.7)\n",
      "Requirement already satisfied: PyJWT<3.0.0,>=2.0.1 in e:\\anaconda\\lib\\site-packages (from ibm-cloud-sdk-core==3.*,>=3.3.6->ibm_watson) (2.1.0)\n",
      "Requirement already satisfied: six>=1.5 in e:\\anaconda\\lib\\site-packages (from python-dateutil>=2.5.3->ibm_watson) (1.16.0)\n",
      "Requirement already satisfied: idna<4,>=2.5 in e:\\anaconda\\lib\\site-packages (from requests<3.0,>=2.0->ibm_watson) (3.2)\n",
      "Requirement already satisfied: charset-normalizer~=2.0.0 in e:\\anaconda\\lib\\site-packages (from requests<3.0,>=2.0->ibm_watson) (2.0.4)\n",
      "Requirement already satisfied: certifi>=2017.4.17 in e:\\anaconda\\lib\\site-packages (from requests<3.0,>=2.0->ibm_watson) (2021.10.8)\n",
      "Building wheels for collected packages: ibm-watson, ibm-cloud-sdk-core\n",
      "  Building wheel for ibm-watson (PEP 517): started\n",
      "  Building wheel for ibm-watson (PEP 517): finished with status 'done'\n",
      "  Created wheel for ibm-watson: filename=ibm_watson-5.3.1-py3-none-any.whl size=409192 sha256=ad56af831b69dee94561707136fee863432cf03dd075939104ce066d4e12a2e9\n",
      "  Stored in directory: c:\\users\\dudup\\appdata\\local\\pip\\cache\\wheels\\3d\\26\\bb\\2962387956504cac2f0016b86d4bcb0c350c7e8d3aad3c932a\n",
      "  Building wheel for ibm-cloud-sdk-core (setup.py): started\n",
      "  Building wheel for ibm-cloud-sdk-core (setup.py): finished with status 'done'\n",
      "  Created wheel for ibm-cloud-sdk-core: filename=ibm_cloud_sdk_core-3.14.0-py3-none-any.whl size=83275 sha256=5715ca6a9b76c6751e8d67327d3b371a2cdefb867a8194dad854139569857d32\n",
      "  Stored in directory: c:\\users\\dudup\\appdata\\local\\pip\\cache\\wheels\\4d\\63\\16\\3f9e24b66abf6679a67db1087cb376fe49cb7419b5585aa6a3\n",
      "Successfully built ibm-watson ibm-cloud-sdk-core\n",
      "Installing collected packages: websocket-client, ibm-cloud-sdk-core, ibm-watson\n",
      "Successfully installed ibm-cloud-sdk-core-3.14.0 ibm-watson-5.3.1 websocket-client-1.1.0\n",
      "Note: you may need to restart the kernel to use updated packages.\n"
     ]
    }
   ],
   "source": [
    "from ibm_watson import SpeechToTextV1\n",
    "\n",
    "url_s2t = \"https://stream.watsonplatform.net/speech-to-text/api\"\n",
    "iam_apikey_s2t = \"\"\n",
    "s2t = SpeechToTextV1(iam_apikey=iam_apikey_s2t, url=url_s2t)"
   ]
  },
  {
   "cell_type": "code",
   "execution_count": 14,
   "metadata": {},
   "outputs": [
    {
     "name": "stdout",
     "output_type": "stream",
     "text": [
      "Empty DataFrame\n",
      "Columns: [TimeStamp, Price]\n",
      "Index: []\n",
      "Empty DataFrame\n",
      "Columns: [(Price, min), (Price, max), (Price, first), (Price, last)]\n",
      "Index: []\n"
     ]
    }
   ],
   "source": [
    "data = pd.DataFrame(bitcoin_data, columns=['TimeStamp', 'Price'])\n",
    "print(data)\n",
    "data['Date'] = pd.to_datetime(data['TimeStamp'], unit='ms')\n",
    "\n",
    "candlestick_data = data.groupby(data.Date.dt.date).agg({'Price':['min', 'max', 'first', 'last']})\n",
    "print(candlestick_data)"
   ]
  },
  {
   "cell_type": "code",
   "execution_count": null,
   "metadata": {},
   "outputs": [],
   "source": []
  }
 ],
 "metadata": {
  "interpreter": {
   "hash": "8d86c190dfcadcdaa67edec4a1ea82702241987b5b1f320c920d3d4ca36fee5b"
  },
  "kernelspec": {
   "display_name": "Python 3.9.7 ('base')",
   "language": "python",
   "name": "python3"
  },
  "language_info": {
   "codemirror_mode": {
    "name": "ipython",
    "version": 3
   },
   "file_extension": ".py",
   "mimetype": "text/x-python",
   "name": "python",
   "nbconvert_exporter": "python",
   "pygments_lexer": "ipython3",
   "version": "3.9.7"
  },
  "orig_nbformat": 4
 },
 "nbformat": 4,
 "nbformat_minor": 2
}
