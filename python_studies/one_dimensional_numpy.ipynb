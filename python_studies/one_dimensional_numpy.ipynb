{
 "cells": [
  {
   "cell_type": "code",
   "execution_count": 3,
   "metadata": {},
   "outputs": [
    {
     "name": "stdout",
     "output_type": "stream",
     "text": [
      "5\n"
     ]
    }
   ],
   "source": [
    "import numpy as np"
   ]
  },
  {
   "cell_type": "markdown",
   "metadata": {},
   "source": [
    "### Initializing an array"
   ]
  },
  {
   "cell_type": "code",
   "execution_count": 8,
   "metadata": {},
   "outputs": [
    {
     "name": "stdout",
     "output_type": "stream",
     "text": [
      "[0 1 2 3 4]\n"
     ]
    }
   ],
   "source": [
    "pyArray = np.array([0, 1, 2, 3, 4])\n",
    "print(pyArray)"
   ]
  },
  {
   "cell_type": "markdown",
   "metadata": {},
   "source": [
    "### size, dimensions and shape\n",
    "Shape: tuple of index that indicates the size of the array in each dimension\n"
   ]
  },
  {
   "cell_type": "code",
   "execution_count": 6,
   "metadata": {},
   "outputs": [
    {
     "name": "stdout",
     "output_type": "stream",
     "text": [
      "5\n",
      "1\n",
      "(5,)\n"
     ]
    }
   ],
   "source": [
    "print(pyArray.size)\n",
    "print(pyArray.ndim)\n",
    "print(pyArray.shape)"
   ]
  },
  {
   "cell_type": "markdown",
   "metadata": {},
   "source": [
    "Like lists and tuples, we can split an array"
   ]
  },
  {
   "cell_type": "markdown",
   "metadata": {},
   "source": [
    "## Basic Operations\n"
   ]
  },
  {
   "cell_type": "markdown",
   "metadata": {},
   "source": [
    "### Vector adictions\n",
    "This is very usefull to linear algebra\n",
    "\n",
    "product of two numpy arrays is a multiplication over the elements in same component of the two arrays\n",
    "\n",
    "`np.dot(u, v)` returns the escalar product over the arrays"
   ]
  },
  {
   "cell_type": "code",
   "execution_count": 18,
   "metadata": {},
   "outputs": [
    {
     "name": "stdout",
     "output_type": "stream",
     "text": [
      "w = u + v\t[1 1]\n",
      "w = u - v\t[ 1 -1]\n",
      "w = u + 1\t[2 1]\n",
      "w = 2*u - v\t[ 2 -1]\n",
      "w = u * v\t[0 0]\n",
      "w = np.dot(a,b)\t19\n"
     ]
    }
   ],
   "source": [
    "u = np.array([1, 0])\n",
    "v = np.array([0, 1])\n",
    "a = np.array([2, 3, 5])\n",
    "b = np.array([3, 1, 2])\n",
    "w = u + v\n",
    "print('w = u + v', end='\\t')\n",
    "print(w)\n",
    "w = u - v\n",
    "print('w = u - v', end='\\t')\n",
    "print(w)\n",
    "w = u + 1\n",
    "print('w = u + 1', end='\\t')\n",
    "print(w)\n",
    "w = 2*u - v\n",
    "print('w = 2*u - v', end='\\t')\n",
    "print(w)\n",
    "w = u * v\n",
    "print('w = u * v', end='\\t')\n",
    "print(w)\n",
    "w = np.dot(a, b)\n",
    "print('w = np.dot(a,b)', end='\\t')\n",
    "print(w)"
   ]
  },
  {
   "cell_type": "markdown",
   "metadata": {},
   "source": [
    "## Universal Functions\n",
    "\n",
    "### Mean, max, constant pi, sin, cos"
   ]
  },
  {
   "cell_type": "code",
   "execution_count": 25,
   "metadata": {},
   "outputs": [
    {
     "name": "stdout",
     "output_type": "stream",
     "text": [
      "3.3333333333333335\n",
      "5\n",
      "3.141592653589793\n",
      "1.0\n"
     ]
    }
   ],
   "source": [
    "mean = a.mean()\n",
    "print(mean)\n",
    "max = a.max()\n",
    "print(max)\n",
    "print(np.pi)\n",
    "print(np.sin(np.pi / 2))"
   ]
  },
  {
   "cell_type": "markdown",
   "metadata": {},
   "source": [
    "### linespace"
   ]
  },
  {
   "cell_type": "code",
   "execution_count": 26,
   "metadata": {},
   "outputs": [
    {
     "data": {
      "text/plain": [
       "array([-2. , -1.5, -1. , -0.5,  0. ,  0.5,  1. ,  1.5,  2. ])"
      ]
     },
     "execution_count": 26,
     "metadata": {},
     "output_type": "execute_result"
    }
   ],
   "source": [
    "np.linspace(-2, 2, num=9)"
   ]
  },
  {
   "cell_type": "markdown",
   "metadata": {},
   "source": [
    "# Two dimensions numpy"
   ]
  },
  {
   "cell_type": "code",
   "execution_count": 31,
   "metadata": {},
   "outputs": [
    {
     "name": "stdout",
     "output_type": "stream",
     "text": [
      "[[11 12 13]\n",
      " [21 22 23]\n",
      " [31 32 33]]\n",
      "shape: (3, 3)\n",
      "size: 9\n"
     ]
    }
   ],
   "source": [
    "pyArray = np.array([[11, 12, 13], [21, 22, 23], [31, 32, 33]])\n",
    "print(pyArray)\n",
    "print(f'shape: {pyArray.shape}')\n",
    "print(f'size: {pyArray.size}')"
   ]
  },
  {
   "cell_type": "code",
   "execution_count": 40,
   "metadata": {},
   "outputs": [
    {
     "name": "stdout",
     "output_type": "stream",
     "text": [
      "[[12 13]\n",
      " [22 23]\n",
      " [32 33]]\n",
      "\n",
      "[[11 12]\n",
      " [21 22]]\n"
     ]
    }
   ],
   "source": [
    "print(pyArray[0:3,1:3])\n",
    "print()\n",
    "print(pyArray[:2,:2])"
   ]
  }
 ],
 "metadata": {
  "interpreter": {
   "hash": "8d86c190dfcadcdaa67edec4a1ea82702241987b5b1f320c920d3d4ca36fee5b"
  },
  "kernelspec": {
   "display_name": "Python 3.9.7 ('base')",
   "language": "python",
   "name": "python3"
  },
  "language_info": {
   "codemirror_mode": {
    "name": "ipython",
    "version": 3
   },
   "file_extension": ".py",
   "mimetype": "text/x-python",
   "name": "python",
   "nbconvert_exporter": "python",
   "pygments_lexer": "ipython3",
   "version": "3.9.7"
  },
  "orig_nbformat": 4
 },
 "nbformat": 4,
 "nbformat_minor": 2
}
