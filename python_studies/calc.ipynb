{
 "cells": [
  {
   "cell_type": "code",
   "execution_count": 2,
   "metadata": {},
   "outputs": [],
   "source": [
    "import sympy as sp\n",
    "import numpy as np\n",
    "sp.init_printing()"
   ]
  },
  {
   "cell_type": "code",
   "execution_count": 23,
   "metadata": {},
   "outputs": [
    {
     "data": {
      "image/png": "[encoded data removed]",
      "text/latex": [
       "$\\displaystyle \\left[ -1814400, \\  10626, \\  0, \\  5040\\right]$"
      ],
      "text/plain": [
       "[-1814400, 10626, 0, 5040]"
      ]
     },
     "execution_count": 23,
     "metadata": {},
     "output_type": "execute_result"
    }
   ],
   "source": [
    "x = sp.symbols('x')\n",
    "f = x**23/sp.factorial(20) + x**4*sp.ln(1+x**3)\n",
    "result = []\n",
    "derivatives = [10,23,12,7]\n",
    "for diff in derivatives:\n",
    "    _f = f\n",
    "    for i in range(diff):\n",
    "        _f = sp.diff(_f, x)\n",
    "    result.append(_f.subs(x, 0))\n",
    "\n",
    "result"
   ]
  },
  {
   "cell_type": "code",
   "execution_count": 65,
   "metadata": {},
   "outputs": [
    {
     "data": {
      "image/png": "[encoded data removed]",
      "text/latex": [
       "$\\displaystyle 0.00102880658436189$"
      ],
      "text/plain": [
       "0.0010288065843618854"
      ]
     },
     "execution_count": 65,
     "metadata": {},
     "output_type": "execute_result"
    }
   ],
   "source": [
    "a = 1/(3**x)\n",
    "first = []\n",
    "for n in [1,2,3,4,5,6,7,8,9,10]:\n",
    "    first.append(float(a.subs(x, n) - 0.0005))\n",
    "first\n",
    "sum = 0\n",
    "for i in range(6):\n",
    "    sum += (-1)**i *float(a.subs(x,i))\n",
    "0.75 - sum"
   ]
  },
  {
   "cell_type": "code",
   "execution_count": 25,
   "metadata": {},
   "outputs": [
    {
     "name": "stdout",
     "output_type": "stream",
     "text": [
      "[0.995,\n",
      " 0.6313636363636363,\n",
      " 0.3999586776859504,\n",
      " 0.25270097670924113,\n",
      " 0.15899153063315347,\n",
      " 0.0993582467665522,\n",
      " 0.06140979339689686,\n",
      " 0.037260777616207094,\n",
      " 0.02189322211940451,\n",
      " 0.012113868621439233,\n",
      " 0.0058906436681886035,\n",
      " 0.0019304096070291111,\n",
      " -0.0005897393409814754,\n",
      " -0.002193470489715484,\n",
      " -0.00321402667527349,\n",
      " -0.0038634715206285848,\n",
      " -0.004276754604036372,\n",
      " -0.004539752929841327,\n",
      " -0.004707115500808118,\n",
      " -0.004813618955059711]\n"
     ]
    }
   ],
   "source": [
    "from pprint import pprint\n",
    "a = (7/11)**x\n",
    "first = []\n",
    "for n in range(20):\n",
    "    first.append(float(a.subs(x, n))-5*10**(-3))\n",
    "pprint(first)\n",
    "#sum = 0\n",
    "#for i in range(6):\n",
    "    #sum += (-1)**i *float(a.subs(x,i))\n",
    "#0.75 - sum"
   ]
  }
 ],
 "metadata": {
  "interpreter": {
   "hash": "8d86c190dfcadcdaa67edec4a1ea82702241987b5b1f320c920d3d4ca36fee5b"
  },
  "kernelspec": {
   "display_name": "Python 3.9.7 ('base')",
   "language": "python",
   "name": "python3"
  },
  "language_info": {
   "codemirror_mode": {
    "name": "ipython",
    "version": 3
   },
   "file_extension": ".py",
   "mimetype": "text/x-python",
   "name": "python",
   "nbconvert_exporter": "python",
   "pygments_lexer": "ipython3",
   "version": "3.9.7"
  },
  "orig_nbformat": 4
 },
 "nbformat": 4,
 "nbformat_minor": 2
}
