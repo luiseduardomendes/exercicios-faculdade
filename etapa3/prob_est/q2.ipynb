{
 "cells": [
  {
   "cell_type": "code",
   "execution_count": 149,
   "metadata": {},
   "outputs": [
    {
     "data": {
      "text/html": [
       "<div>\n",
       "<style scoped>\n",
       "    .dataframe tbody tr th:only-of-type {\n",
       "        vertical-align: middle;\n",
       "    }\n",
       "\n",
       "    .dataframe tbody tr th {\n",
       "        vertical-align: top;\n",
       "    }\n",
       "\n",
       "    .dataframe thead th {\n",
       "        text-align: right;\n",
       "    }\n",
       "</style>\n",
       "<table border=\"1\" class=\"dataframe\">\n",
       "  <thead>\n",
       "    <tr style=\"text-align: right;\">\n",
       "      <th></th>\n",
       "      <th>501.0 - 526.0</th>\n",
       "      <th>526.0 - 551.0</th>\n",
       "      <th>551.0 - 576.0</th>\n",
       "      <th>576.0 - 601.0</th>\n",
       "      <th>601.0 - 626.0</th>\n",
       "      <th>626.0 - 651.0</th>\n",
       "    </tr>\n",
       "  </thead>\n",
       "  <tbody>\n",
       "    <tr>\n",
       "      <th>0</th>\n",
       "      <td>501.0</td>\n",
       "      <td>528.0</td>\n",
       "      <td>556.0</td>\n",
       "      <td>589.0</td>\n",
       "      <td>601.0</td>\n",
       "      <td>629.0</td>\n",
       "    </tr>\n",
       "    <tr>\n",
       "      <th>1</th>\n",
       "      <td>512.0</td>\n",
       "      <td>536.0</td>\n",
       "      <td>564.0</td>\n",
       "      <td>597.0</td>\n",
       "      <td>603.0</td>\n",
       "      <td>635.0</td>\n",
       "    </tr>\n",
       "    <tr>\n",
       "      <th>2</th>\n",
       "      <td>516.0</td>\n",
       "      <td>546.0</td>\n",
       "      <td>567.0</td>\n",
       "      <td></td>\n",
       "      <td>605.0</td>\n",
       "      <td>642.0</td>\n",
       "    </tr>\n",
       "    <tr>\n",
       "      <th>3</th>\n",
       "      <td>525.0</td>\n",
       "      <td></td>\n",
       "      <td></td>\n",
       "      <td></td>\n",
       "      <td>612.0</td>\n",
       "      <td>645.0</td>\n",
       "    </tr>\n",
       "    <tr>\n",
       "      <th>4</th>\n",
       "      <td></td>\n",
       "      <td></td>\n",
       "      <td></td>\n",
       "      <td></td>\n",
       "      <td>615.0</td>\n",
       "      <td>648.0</td>\n",
       "    </tr>\n",
       "    <tr>\n",
       "      <th>5</th>\n",
       "      <td></td>\n",
       "      <td></td>\n",
       "      <td></td>\n",
       "      <td></td>\n",
       "      <td>624.0</td>\n",
       "      <td>651.0</td>\n",
       "    </tr>\n",
       "  </tbody>\n",
       "</table>\n",
       "</div>"
      ],
      "text/plain": [
       "  501.0 - 526.0 526.0 - 551.0 551.0 - 576.0 576.0 - 601.0  601.0 - 626.0  \\\n",
       "0         501.0         528.0         556.0         589.0          601.0   \n",
       "1         512.0         536.0         564.0         597.0          603.0   \n",
       "2         516.0         546.0         567.0                        605.0   \n",
       "3         525.0                                                    612.0   \n",
       "4                                                                  615.0   \n",
       "5                                                                  624.0   \n",
       "\n",
       "   626.0 - 651.0  \n",
       "0          629.0  \n",
       "1          635.0  \n",
       "2          642.0  \n",
       "3          645.0  \n",
       "4          648.0  \n",
       "5          651.0  "
      ]
     },
     "execution_count": 149,
     "metadata": {},
     "output_type": "execute_result"
    }
   ],
   "source": [
    "import pandas as pd\n",
    "import numpy as np\n",
    "\n",
    "def read_csv_1_var(filename: str):\n",
    "    with open(filename) as f:\n",
    "        df = f.read().split(',')\n",
    "        df = [float(e) for e in df]\n",
    "        df.sort()\n",
    "        df = np.array(df)\n",
    "        f.close()\n",
    "    return df\n",
    "\n",
    "def elements_in_each_distribution(arr, k):\n",
    "    freq_dist = {}\n",
    "\n",
    "    a = arr[:]\n",
    "    a.sort()\n",
    "\n",
    "    i = (a[-1] - a[0]) / k\n",
    "    \n",
    "    # creates an empty list in a dict with the key as the gap of the class\n",
    "    for j in range(k):\n",
    "        freq_dist[f'{round(a[0] + (j) * i, 2)} - {round(a[0] + (j+1) * i, 2)}'] = []\n",
    "        \n",
    "    j = 0\n",
    "    for e in a:\n",
    "        if e >= a[0] + (j+1) * i and j < k-1:\n",
    "            j += 1\n",
    "        freq_dist[f'{round(a[0] + (j) * i, 2)} - {round(a[0] + (j+1) * i, 2)}'].append(e)\n",
    "\n",
    "    max = pd.Series([len(freq_dist[key]) for key in freq_dist.keys()]).max()\n",
    "\n",
    "    for key in freq_dist.keys():\n",
    "        while (len(freq_dist[key]) < max):\n",
    "            freq_dist[key].append('')\n",
    "        \n",
    "\n",
    "\n",
    "    return pd.DataFrame(freq_dist)\n",
    "\n",
    "def frequency_distribution(arr, k):\n",
    "    freq_dist = {}\n",
    "    freq = [0 for j in range(k)]\n",
    "    n = len(arr)\n",
    "    a = arr[:]\n",
    "    a.sort()\n",
    "    i = (a[-1] - a[0]) / k\n",
    "    \n",
    "    # creates an empty list in a dict with the key as the gap of the class\n",
    "    gap = [f'{round(a[0] + (j) * i, 2)} - {round(a[0] + (j+1) * i, 2)}' for j in range(k)]\n",
    "        \n",
    "    j = 0\n",
    "    for e in a:\n",
    "        if e >= a[0] + (j+1) * i and j < k-1:\n",
    "            j += 1\n",
    "        freq[j] += 1\n",
    "\n",
    "    freq = pd.Series(freq)\n",
    "    df_freq = pd.DataFrame({\n",
    "        'gap': gap,\n",
    "        'F': freq,\n",
    "        'F\\'': freq.cumsum(),\n",
    "        'f': pd.Series([j/n for j in freq]),\n",
    "        'f\\'': pd.Series([j/n for j in freq]).cumsum()\n",
    "    }).set_index('gap')\n",
    "\n",
    "    return df_freq\n",
    "\n",
    "\n"
   ]
  },
  {
   "cell_type": "code",
   "execution_count": 154,
   "metadata": {},
   "outputs": [
    {
     "data": {
      "text/plain": [
       "<AxesSubplot:ylabel='gap'>"
      ]
     },
     "execution_count": 154,
     "metadata": {},
     "output_type": "execute_result"
    },
    {
     "data": {
      "image/png": "[encoded data removed]",
      "text/plain": [
       "<Figure size 432x288 with 1 Axes>"
      ]
     },
     "metadata": {
      "needs_background": "light"
     },
     "output_type": "display_data"
    }
   ],
   "source": [
    "filename = \"data.csv\"\n",
    "df = read_csv_1_var(filename)\n",
    "df1 = frequency_distribution(df, 6)\n",
    "#df1 = elements_in_each_distribution(df, 6)\n",
    "df1['f'].plot.barh()"
   ]
  },
  {
   "cell_type": "code",
   "execution_count": 57,
   "metadata": {},
   "outputs": [
    {
     "data": {
      "text/plain": [
       "0.6"
      ]
     },
     "execution_count": 57,
     "metadata": {},
     "output_type": "execute_result"
    }
   ],
   "source": [
    "df = pd.Series(read_csv_1_var('data2.csv'))\n",
    "less_than_5000 = df[df < 5000]\n",
    "ratio = len(less_than_5000) / len(df)\n",
    "ratio"
   ]
  },
  {
   "cell_type": "code",
   "execution_count": 100,
   "metadata": {},
   "outputs": [
    {
     "data": {
      "text/plain": [
       "<AxesSubplot:>"
      ]
     },
     "execution_count": 100,
     "metadata": {},
     "output_type": "execute_result"
    },
    {
     "data": {
      "image/png": "[encoded data removed]",
      "text/plain": [
       "<Figure size 432x288 with 1 Axes>"
      ]
     },
     "metadata": {
      "needs_background": "light"
     },
     "output_type": "display_data"
    }
   ],
   "source": [
    "df = read_csv_1_var('data3.csv')\n",
    "k =  int(np.sqrt(len(df)))\n",
    "df, freq = frequency_distribution(df,k)\n",
    "for key in df.keys():\n",
    "    df[key] = np.array(df[key])\n",
    "pd.Series(freq, index=df.keys()).plot.barh()\n"
   ]
  },
  {
   "cell_type": "code",
   "execution_count": 7,
   "metadata": {},
   "outputs": [
    {
     "data": {
      "text/plain": [
       "20.0"
      ]
     },
     "execution_count": 7,
     "metadata": {},
     "output_type": "execute_result"
    },
    {
     "data": {
      "image/png": "[encoded data removed]",
      "text/plain": [
       "<Figure size 432x288 with 1 Axes>"
      ]
     },
     "metadata": {
      "needs_background": "light"
     },
     "output_type": "display_data"
    }
   ],
   "source": [
    "import matplotlib.pyplot as plt\n",
    "import pandas as pd\n",
    "\n",
    "values = pd.Series([23, 18, 15, 22, 15, 20, 16, 15, 23, 20, 22])\n",
    "\n",
    "values.plot.box()\n",
    "values.median()"
   ]
  }
 ],
 "metadata": {
  "kernelspec": {
   "display_name": "Python 3.9.12 ('base')",
   "language": "python",
   "name": "python3"
  },
  "language_info": {
   "codemirror_mode": {
    "name": "ipython",
    "version": 3
   },
   "file_extension": ".py",
   "mimetype": "text/x-python",
   "name": "python",
   "nbconvert_exporter": "python",
   "pygments_lexer": "ipython3",
   "version": "3.9.7"
  },
  "orig_nbformat": 4,
  "vscode": {
   "interpreter": {
    "hash": "02c1b4ef390a5efa9184e7809e1c04e02d7699a783b26d72e51ddd5cfed96e3f"
   }
  }
 },
 "nbformat": 4,
 "nbformat_minor": 2
}
