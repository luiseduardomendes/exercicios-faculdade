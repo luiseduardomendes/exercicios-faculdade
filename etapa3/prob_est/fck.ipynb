{
 "cells": [
  {
   "cell_type": "code",
   "execution_count": 3,
   "metadata": {},
   "outputs": [
    {
     "data": {
      "text/plain": [
       "(56.82432865662516, 62.448398616102104)"
      ]
     },
     "execution_count": 3,
     "metadata": {},
     "output_type": "execute_result"
    }
   ],
   "source": [
    "import numpy as np\n",
    "array = np.array([60,56,56,64,54,64,65,62,61,55,59])\n",
    "n = len(array) - 1\n",
    "x = array.mean()\n",
    "s2 = array.var(ddof=1)\n",
    "s = np.sqrt(s2)\n",
    "t = 2.262\n",
    "d = t*s/np.sqrt(n)\n",
    "ic = (x - d, x + d)\n",
    "ic"
   ]
  },
  {
   "cell_type": "code",
   "execution_count": 9,
   "metadata": {},
   "outputs": [
    {
     "data": {
      "text/plain": [
       "12.351690128623206"
      ]
     },
     "execution_count": 9,
     "metadata": {},
     "output_type": "execute_result"
    }
   ],
   "source": [
    "array = np.array([246.859,249.559,247.219,248.469,248.583,\n",
    "254.981,252.687,249.129,245.402,253.928,\n",
    "244.613,245.566,247.089,246.354,246.611,\n",
    "254.827,249.602,247.315,252.519,250.741,\n",
    "245.425,247.896,252.001,257.314])\n",
    "\n",
    "n = len(array) - 1\n",
    "x = array.mean()\n",
    "s2 = array.var(ddof=1)\n",
    "s = np.sqrt(s2)\n",
    "\n",
    "q1 = 10.196\n",
    "q2 = 41.638\n",
    "\n",
    "d1 = q1*s/np.sqrt(n)\n",
    "d2 = q2*s/np.sqrt(n)\n",
    "\n",
    "ic = (n * s2 / q2, n * s2 / q1)\n",
    "ic\n",
    "\n",
    "s2"
   ]
  }
 ],
 "metadata": {
  "kernelspec": {
   "display_name": "Python 3.9.12 ('base')",
   "language": "python",
   "name": "python3"
  },
  "language_info": {
   "codemirror_mode": {
    "name": "ipython",
    "version": 3
   },
   "file_extension": ".py",
   "mimetype": "text/x-python",
   "name": "python",
   "nbconvert_exporter": "python",
   "pygments_lexer": "ipython3",
   "version": "3.9.12"
  },
  "orig_nbformat": 4,
  "vscode": {
   "interpreter": {
    "hash": "02c1b4ef390a5efa9184e7809e1c04e02d7699a783b26d72e51ddd5cfed96e3f"
   }
  }
 },
 "nbformat": 4,
 "nbformat_minor": 2
}
