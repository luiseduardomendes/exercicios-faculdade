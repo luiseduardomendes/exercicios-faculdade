{
 "cells": [
  {
   "cell_type": "code",
   "execution_count": 19,
   "metadata": {},
   "outputs": [
    {
     "data": {
      "text/plain": [
       "0.9468048519579807"
      ]
     },
     "execution_count": 19,
     "metadata": {},
     "output_type": "execute_result"
    }
   ],
   "source": [
    "import numpy as np\n",
    "import sympy as sp\n",
    "\n",
    "# 1 V\n",
    "# 2 F\n",
    "# 3 F\n",
    "# 4 V\n",
    "# 5 F\n",
    "\n",
    "\n",
    "X = 24\n",
    "S = 1.5\n",
    "\n",
    "x = sp.symbols('x')\n",
    "def z(a):\n",
    "    return (a - X)/S\n",
    "\n",
    "def z_x1_x2(x1, x2):\n",
    "\n",
    "    z_x = sp.exp(-(x**2) / 2) / np.sqrt(2 * np.pi)\n",
    "\n",
    "    return float(z_x.integrate((x, z(x1), z(x2))))\n",
    "\n",
    "z_x1_x2(21.1, 26.9)\n"
   ]
  },
  {
   "cell_type": "code",
   "execution_count": 23,
   "metadata": {},
   "outputs": [
    {
     "data": {
      "text/plain": [
       "0.03876620521050688"
      ]
     },
     "execution_count": 23,
     "metadata": {},
     "output_type": "execute_result"
    }
   ],
   "source": [
    "\n",
    "X = 132\n",
    "S = 28\n",
    "n = 39\n",
    "\n",
    "x = sp.symbols('x')\n",
    "def z(a):\n",
    "    return (a - X) / (S * np.sqrt(n))\n",
    "\n",
    "def z_x1_x2(x1, x2):\n",
    "    z_x = sp.exp(-(x**2) / 2) / np.sqrt(2 * np.pi)\n",
    "    return float(z_x.integrate((x, z(x1), z(x2))))\n",
    "\n",
    "z_x1_x2(121, 138)"
   ]
  }
 ],
 "metadata": {
  "kernelspec": {
   "display_name": "Python 3.9.12 ('base')",
   "language": "python",
   "name": "python3"
  },
  "language_info": {
   "codemirror_mode": {
    "name": "ipython",
    "version": 3
   },
   "file_extension": ".py",
   "mimetype": "text/x-python",
   "name": "python",
   "nbconvert_exporter": "python",
   "pygments_lexer": "ipython3",
   "version": "3.9.12"
  },
  "orig_nbformat": 4,
  "vscode": {
   "interpreter": {
    "hash": "02c1b4ef390a5efa9184e7809e1c04e02d7699a783b26d72e51ddd5cfed96e3f"
   }
  }
 },
 "nbformat": 4,
 "nbformat_minor": 2
}
