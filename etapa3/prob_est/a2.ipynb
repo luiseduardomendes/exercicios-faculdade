{
 "cells": [
  {
   "cell_type": "code",
   "execution_count": 68,
   "metadata": {},
   "outputs": [
    {
     "data": {
      "text/plain": [
       "1.199935999992163"
      ]
     },
     "execution_count": 68,
     "metadata": {},
     "output_type": "execute_result"
    }
   ],
   "source": [
    "from random import randint\n",
    "rep = 1000000\n",
    "mean = 0\n",
    "for i in range(rep):\n",
    "    a = ['B', 'B', 'P', 'P', 'P']\n",
    "    rand1 = randint(0, 4)\n",
    "\n",
    "    rand2 = randint(0, 4)\n",
    "    while rand2 == rand1:\n",
    "        rand2 = randint(0, 4)\n",
    "\n",
    "    b = [a[rand1], a[rand2]]\n",
    "    c = b.count('P')\n",
    "    mean = mean + c/rep\n",
    "mean"
   ]
  }
 ],
 "metadata": {
  "kernelspec": {
   "display_name": "Python 3.9.12 ('base')",
   "language": "python",
   "name": "python3"
  },
  "language_info": {
   "codemirror_mode": {
    "name": "ipython",
    "version": 3
   },
   "file_extension": ".py",
   "mimetype": "text/x-python",
   "name": "python",
   "nbconvert_exporter": "python",
   "pygments_lexer": "ipython3",
   "version": "3.9.12"
  },
  "orig_nbformat": 4,
  "vscode": {
   "interpreter": {
    "hash": "02c1b4ef390a5efa9184e7809e1c04e02d7699a783b26d72e51ddd5cfed96e3f"
   }
  }
 },
 "nbformat": 4,
 "nbformat_minor": 2
}
