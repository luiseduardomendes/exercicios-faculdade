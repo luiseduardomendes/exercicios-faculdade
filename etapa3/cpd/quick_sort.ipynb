{
 "cells": [
  {
   "cell_type": "code",
   "execution_count": 21,
   "metadata": {},
   "outputs": [],
   "source": [
    "def lomuto_partition(A, i, f):\n",
    "    cp = A[i]\n",
    "    left = True\n",
    "    while i < f:\n",
    "        if left:\n",
    "            if cp >= A[f]:\n",
    "                A[i] = A[f]\n",
    "                i = i + 1\n",
    "                left = False\n",
    "                print(A)\n",
    "            else:\n",
    "                f = f - 1\n",
    "        else:\n",
    "            if cp < A[i]:\n",
    "                A[f] = A[i]\n",
    "                f = f - 1\n",
    "                left = True\n",
    "                print(A)\n",
    "            else:\n",
    "                i = i + 1\n",
    "    k = i \n",
    "    A[k] = cp\n",
    "    return k\n",
    "\n",
    "def quick_sort_rec(A, i, f):\n",
    "    if i < f:\n",
    "        p = lomuto_partition(A, i, f)\n",
    "        quick_sort_rec(A, i, p-1)\n",
    "        quick_sort_rec(A, p+1, f)\n",
    "\n",
    "def quick_sort(A):\n",
    "    quick_sort_rec(A, 0, len(A) - 1)\n"
   ]
  },
  {
   "cell_type": "code",
   "execution_count": 22,
   "metadata": {},
   "outputs": [
    {
     "name": "stdout",
     "output_type": "stream",
     "text": [
      "[0, 4, 9, 3, 8, 3]\n",
      "[0, 3, 9, 3, 8, 3]\n",
      "[0, 3, 9, 3, 8, 9]\n",
      "[0, 3, 3, 3, 8, 9]\n",
      "[0, 3, 3, 4, 8, 9]\n"
     ]
    }
   ],
   "source": [
    "from random import randint\n",
    "maxrand = 10\n",
    "length = 6\n",
    "A = [randint(0, maxrand) for f in range(length)]\n",
    "print(A)\n",
    "quick_sort(A)\n"
   ]
  }
 ],
 "metadata": {
  "kernelspec": {
   "display_name": "Python 3.9.12 ('base')",
   "language": "python",
   "name": "python3"
  },
  "language_info": {
   "codemirror_mode": {
    "name": "ipython",
    "version": 3
   },
   "file_extension": ".py",
   "mimetype": "text/x-python",
   "name": "python",
   "nbconvert_exporter": "python",
   "pygments_lexer": "ipython3",
   "version": "3.9.12"
  },
  "orig_nbformat": 4,
  "vscode": {
   "interpreter": {
    "hash": "02c1b4ef390a5efa9184e7809e1c04e02d7699a783b26d72e51ddd5cfed96e3f"
   }
  }
 },
 "nbformat": 4,
 "nbformat_minor": 2
}
