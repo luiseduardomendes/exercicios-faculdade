{
 "cells": [
  {
   "cell_type": "code",
   "execution_count": 116,
   "metadata": {},
   "outputs": [],
   "source": [
    "from tokenize import single_quoted\n",
    "import pandas as pd\n",
    "\n",
    "df = pd.read_csv('DIGITAL_CIRCUITS.csv')\n",
    "t = df['time']\n",
    "df = df.T\n",
    "\n",
    "outputs = []\n",
    "for key in df.keys():\n",
    "    for i in df[key].keys()[1:]:\n",
    "        if df[key][i] not in outputs and pd.notnull(df[key][i]):\n",
    "            outputs.append(df[key][i])\n",
    "outputs\n",
    "\n",
    "df2 = {}\n",
    "for signal in outputs:\n",
    "    df2[signal] = {}\n",
    "    for key in df.keys():\n",
    "        df2[signal][t[key]] = list(df[df[key] ==  signal].index)\n",
    "    \n",
    "out_file_name = 'CD.txt'\n",
    "with open(out_file_name, 'w') as f:\n",
    "\n",
    "    for signal in outputs:\n",
    "        f.write('{:.<15}'.format(signal))\n",
    "        f.write(': ')\n",
    "        for key in list(df2[signal].keys()):\n",
    "            if len(df2[signal][key]) != 0:\n",
    "                f.write(key + ' * (')\n",
    "                for op in df2[signal][key]:\n",
    "                    f.write(op + ' + ')\n",
    "                f.write(') + ')\n",
    "        f.write('\\n')\n",
    "\n",
    "    f.close()\n"
   ]
  }
 ],
 "metadata": {
  "kernelspec": {
   "display_name": "Python 3.9.12 ('base')",
   "language": "python",
   "name": "python3"
  },
  "language_info": {
   "codemirror_mode": {
    "name": "ipython",
    "version": 3
   },
   "file_extension": ".py",
   "mimetype": "text/x-python",
   "name": "python",
   "nbconvert_exporter": "python",
   "pygments_lexer": "ipython3",
   "version": "3.9.12"
  },
  "orig_nbformat": 4,
  "vscode": {
   "interpreter": {
    "hash": "02c1b4ef390a5efa9184e7809e1c04e02d7699a783b26d72e51ddd5cfed96e3f"
   }
  }
 },
 "nbformat": 4,
 "nbformat_minor": 2
}
