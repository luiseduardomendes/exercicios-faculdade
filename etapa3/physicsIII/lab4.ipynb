{
 "cells": [
  {
   "cell_type": "code",
   "execution_count": 2,
   "metadata": {},
   "outputs": [],
   "source": [
    "import pandas as pd\n",
    "\n",
    "df = pd.read_csv('d1.csv')\n",
    "\n",
    "f = []\n",
    "p = []\n",
    "I = []\n",
    "for i in df.index:\n",
    "    p.append(df['lente'][i] - df['vela'][i])\n",
    "    I.append(df['anteparo'][i] - df['lente'][i])\n",
    "\n",
    "df2 = pd.DataFrame({'i' : I, 'p' : p}) \n",
    "\n",
    "for i in df2.index:\n",
    "    f.append((df2['i'][i] * df2['p'][i])/(df2['i'][i] + df2['p'][i]))\n",
    "\n",
    "df2.insert(len(df2.columns), 'f', f)\n",
    "f = df2['f'].mean()"
   ]
  },
  {
   "cell_type": "code",
   "execution_count": 44,
   "metadata": {},
   "outputs": [
    {
     "data": {
      "text/plain": [
       "-10.472824494535814"
      ]
     },
     "execution_count": 44,
     "metadata": {},
     "output_type": "execute_result"
    }
   ],
   "source": [
    "df = pd.read_csv('d2.csv')\n",
    "\n",
    "i_ = []\n",
    "p = []\n",
    "_p2 = []\n",
    "_i2 = []\n",
    "for i in df.index:\n",
    "    _p = df['conv'][i] - df['vela'][i]\n",
    "    p.append(_p)\n",
    "    _i = (_p*f)/(_p-f)\n",
    "    i_.append(_i)\n",
    "    \n",
    "    _p2.append(_i - df['div'][i])\n",
    "    _i2.append(df['div'][i] - df['ant'][i])\n",
    "\n",
    "df2 = pd.DataFrame({'p1' : p, 'i1' : i_, 'p2' : _p2, 'i2' :_i2}) \n",
    "_f2 = []\n",
    "for i in df2.index:\n",
    "    _f2.append((df2['i2'][i] * df2['p2'][i])/(df2['i2'][i] + df2['p2'][i]))\n",
    "df2.insert(len(df2.columns), 'f', _f2)\n",
    "df3 = df.copy()\n",
    "for key in df2.columns:\n",
    "    df3.insert(len(df3),key,df2[key])\n",
    "df3 = df2.loc[:,'p2':]\n",
    "df3['f'].mean()\n"
   ]
  }
 ],
 "metadata": {
  "kernelspec": {
   "display_name": "Python 3.9.12 ('base')",
   "language": "python",
   "name": "python3"
  },
  "language_info": {
   "codemirror_mode": {
    "name": "ipython",
    "version": 3
   },
   "file_extension": ".py",
   "mimetype": "text/x-python",
   "name": "python",
   "nbconvert_exporter": "python",
   "pygments_lexer": "ipython3",
   "version": "3.9.12"
  },
  "orig_nbformat": 4,
  "vscode": {
   "interpreter": {
    "hash": "02c1b4ef390a5efa9184e7809e1c04e02d7699a783b26d72e51ddd5cfed96e3f"
   }
  }
 },
 "nbformat": 4,
 "nbformat_minor": 2
}
