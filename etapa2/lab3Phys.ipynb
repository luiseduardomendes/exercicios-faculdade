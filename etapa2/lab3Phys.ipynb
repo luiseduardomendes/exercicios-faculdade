{
 "cells": [
  {
   "cell_type": "code",
   "execution_count": 3,
   "metadata": {},
   "outputs": [
    {
     "name": "stdout",
     "output_type": "stream",
     "text": [
      "olá mundo10\n"
     ]
    }
   ],
   "source": [
    "var = 10 + 5\n",
    "print(f\"olá mundo {var}\")\n"
   ]
  }
 ],
 "metadata": {
  "interpreter": {
   "hash": "e1d67b35190c898c5b7e02a2e88c487c8bf4962507eec571cc8a46f2eb7e1767"
  },
  "kernelspec": {
   "display_name": "Python 3.9.7 ('base')",
   "language": "python",
   "name": "python3"
  },
  "language_info": {
   "codemirror_mode": {
    "name": "ipython",
    "version": 3
   },
   "file_extension": ".py",
   "mimetype": "text/x-python",
   "name": "python",
   "nbconvert_exporter": "python",
   "pygments_lexer": "ipython3",
   "version": "3.9.7"
  },
  "orig_nbformat": 4
 },
 "nbformat": 4,
 "nbformat_minor": 2
}
