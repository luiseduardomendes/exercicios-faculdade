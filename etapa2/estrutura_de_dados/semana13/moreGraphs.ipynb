{
 "cells": [
  {
   "cell_type": "code",
   "execution_count": 18,
   "metadata": {},
   "outputs": [
    {
     "name": "stdout",
     "output_type": "stream",
     "text": [
      "115\n",
      "120\n",
      "155\n",
      "160\n",
      "170\n",
      "175\n",
      "175\n",
      "180\n"
     ]
    }
   ],
   "source": [
    "from pprint import pprint\n",
    "\n",
    "data = [\n",
    "    240,\n",
    "    210,\n",
    "    340,\n",
    "    280,\n",
    "    200,\n",
    "    345,\n",
    "    120,\n",
    "    265,\n",
    "    175,\n",
    "    215,\n",
    "    180,\n",
    "    185,\n",
    "    155,\n",
    "    260,\n",
    "    115,\n",
    "    350,\n",
    "    435,\n",
    "    195,\n",
    "    160,\n",
    "    330,\n",
    "    295,\n",
    "    230,\n",
    "    360,\n",
    "    400,\n",
    "    170,\n",
    "    175,\n",
    "    205,\n",
    "    305\n",
    "]\n",
    "\n",
    "data.sort()\n",
    "\n",
    "for d in data:\n",
    "    input()\n",
    "    print(d)"
   ]
  }
 ],
 "metadata": {
  "interpreter": {
   "hash": "8d86c190dfcadcdaa67edec4a1ea82702241987b5b1f320c920d3d4ca36fee5b"
  },
  "kernelspec": {
   "display_name": "Python 3.9.7 ('base')",
   "language": "python",
   "name": "python3"
  },
  "language_info": {
   "codemirror_mode": {
    "name": "ipython",
    "version": 3
   },
   "file_extension": ".py",
   "mimetype": "text/x-python",
   "name": "python",
   "nbconvert_exporter": "python",
   "pygments_lexer": "ipython3",
   "version": "3.9.7"
  },
  "orig_nbformat": 4
 },
 "nbformat": 4,
 "nbformat_minor": 2
}
