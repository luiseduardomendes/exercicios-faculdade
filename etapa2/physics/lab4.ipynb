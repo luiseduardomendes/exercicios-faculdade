{
 "cells": [
  {
   "cell_type": "code",
   "execution_count": 104,
   "metadata": {},
   "outputs": [
    {
     "name": "stderr",
     "output_type": "stream",
     "text": [
      "/tmp/ipykernel_7975/3454346782.py:29: RuntimeWarning: divide by zero encountered in true_divide\n",
      "  X_C = 1/(w*C)\n"
     ]
    },
    {
     "data": {
      "image/png": "[encoded data removed]",
      "text/plain": [
       "<Figure size 432x288 with 1 Axes>"
      ]
     },
     "metadata": {
      "needs_background": "light"
     },
     "output_type": "display_data"
    }
   ],
   "source": [
    "import math\n",
    "import numpy as np\n",
    "import matplotlib.pyplot as plt\n",
    "import pandas as pd\n",
    "import sympy as sp\n",
    "\n",
    "sp.init_printing()\n",
    "\n",
    "df = pd.read_csv('lab4_data.csv')\n",
    "df = df.to_dict('list')\n",
    "\n",
    "w = np.array(df['x'])\n",
    "y = np.array(df['y'])\n",
    "\n",
    "x = sp.symbols('x')\n",
    "\n",
    "x = sp.Matrix(w)\n",
    "y = sp.Matrix(y)\n",
    "\n",
    "plt.scatter(x, y)\n",
    "\n",
    "E = 1000\n",
    "L = 0.00045\n",
    "C = 0.00085\n",
    "R = 1.75\n",
    "w = np.linspace(0,11500, 12000)\n",
    "\n",
    "X_L = w*L\n",
    "X_C = 1/(w*C)\n",
    "\n",
    "Z = np.sqrt(R**2+(X_L-X_C)**2)\n",
    "cos_phi = R/Z\n",
    "I = E/Z\n",
    "plt.plot(w, I)\n",
    "\n",
    "plt.show()\n"
   ]
  },
  {
   "cell_type": "code",
   "execution_count": 102,
   "metadata": {},
   "outputs": [
    {
     "name": "stdout",
     "output_type": "stream",
     "text": [
      "E = 9\n",
      "L = 3\n",
      "C = 0.14\n",
      "R = 39\n",
      "w = 1.75\n",
      "f = 10.995574287564276\n",
      "Z = 39.01749712958781\n",
      "cos_phi = 0.9995515568430826\n",
      "X_L = 5.25\n",
      "X_C = 4.081632653061224\n",
      "I = 0.2306657438868652\n"
     ]
    }
   ],
   "source": [
    "E = 9\n",
    "L = 3\n",
    "C = 0.14\n",
    "R = 39\n",
    "w = 1.75\n",
    "\n",
    "X_L = w*L\n",
    "X_C = 1/(w*C)\n",
    "\n",
    "Z = np.sqrt(R**2+(X_L-X_C)**2)\n",
    "cos_phi = R/Z\n",
    "I = E/Z\n",
    "\n",
    "print(f'E = {E}')\n",
    "print(f'L = {L}')\n",
    "print(f'C = {C}')\n",
    "print(f'R = {R}')\n",
    "print(f'w = {w}')\n",
    "print(f'f = {math.pi*2*w}')\n",
    "print(f'Z = {Z}')\n",
    "print(f'cos_phi = {cos_phi}')\n",
    "print(f'X_L = {X_L}')\n",
    "print(f'X_C = {X_C}')\n",
    "print(f'I = {I}')\n"
   ]
  }
 ],
 "metadata": {
  "interpreter": {
   "hash": "e1d67b35190c898c5b7e02a2e88c487c8bf4962507eec571cc8a46f2eb7e1767"
  },
  "kernelspec": {
   "display_name": "Python 3.9.7 ('base')",
   "language": "python",
   "name": "python3"
  },
  "language_info": {
   "codemirror_mode": {
    "name": "ipython",
    "version": 3
   },
   "file_extension": ".py",
   "mimetype": "text/x-python",
   "name": "python",
   "nbconvert_exporter": "python",
   "pygments_lexer": "ipython3",
   "version": "3.9.7"
  },
  "orig_nbformat": 4
 },
 "nbformat": 4,
 "nbformat_minor": 2
}
