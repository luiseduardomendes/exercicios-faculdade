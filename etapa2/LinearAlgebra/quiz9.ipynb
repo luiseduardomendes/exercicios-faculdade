{
 "cells": [
  {
   "cell_type": "code",
   "execution_count": 11,
   "metadata": {},
   "outputs": [
    {
     "data": {
      "text/latex": [
       "$\\displaystyle \\left[\\begin{matrix}1 & 3\\\\4 & 2\\end{matrix}\\right]$"
      ],
      "text/plain": [
       "⎡1  3⎤\n",
       "⎢    ⎥\n",
       "⎣4  2⎦"
      ]
     },
     "execution_count": 11,
     "metadata": {},
     "output_type": "execute_result"
    }
   ],
   "source": [
    "import sympy as sp\n",
    "\n",
    "sp.init_printing()\n",
    "\n",
    "P = sp.Matrix([[3,-1],[4,1]])\n",
    "Pinv = P.inv()\n",
    "\n",
    "D = sp.Matrix([[5,0],[0,-2]])\n",
    "\n",
    "P*D*Pinv"
   ]
  },
  {
   "cell_type": "code",
   "execution_count": 51,
   "metadata": {},
   "outputs": [
    {
     "data": {
      "image/png": "[encoded data removed]",
      "text/latex": [
       "$\\displaystyle \\left\\{\\left( 2 x_{3}, \\  x_{3}, \\  x_{3}\\right)\\right\\}$"
      ],
      "text/plain": [
       "{(2⋅x₃, x₃, x₃)}"
      ]
     },
     "execution_count": 51,
     "metadata": {},
     "output_type": "execute_result"
    }
   ],
   "source": [
    "y = sp.symbols('lambda')\n",
    "A = sp.Matrix([\n",
    "    [4-y,1,1],\n",
    "    [1,2-y,1],\n",
    "    [1,1,2-y]\n",
    "])\n",
    "x1, x2, x3 = sp.symbols(['x1', 'x2', 'x3'])\n",
    "\n",
    "\n",
    "x = sp.Matrix([0,0,0]).T\n",
    "sp.linsolve((A.subs(y, 5),x),x1,x2,x3)"
   ]
  },
  {
   "cell_type": "code",
   "execution_count": 33,
   "metadata": {},
   "outputs": [
    {
     "data": {
      "image/png": "[encoded data removed]",
      "text/latex": [
       "$\\displaystyle \\left(\\lambda - 1\\right) \\left(- \\lambda^{2} + 7 \\lambda - 10\\right)$"
      ],
      "text/plain": [
       "        ⎛   2           ⎞\n",
       "(λ - 1)⋅⎝- λ  + 7⋅λ - 10⎠"
      ]
     },
     "execution_count": 33,
     "metadata": {},
     "output_type": "execute_result"
    }
   ],
   "source": [
    "(-y**2+7*y-10)*(y-1)"
   ]
  },
  {
   "cell_type": "code",
   "execution_count": 135,
   "metadata": {},
   "outputs": [
    {
     "data": {
      "image/png": "[encoded data removed]",
      "text/latex": [
       "$\\displaystyle \\left\\{\\left( \\frac{x_{3}}{4}, \\  - \\frac{5 x_{3}}{2}, \\  x_{3}\\right)\\right\\}$"
      ],
      "text/plain": [
       "⎧⎛x₃  -5⋅x₃     ⎞⎫\n",
       "⎨⎜──, ──────, x₃⎟⎬\n",
       "⎩⎝4     2       ⎠⎭"
      ]
     },
     "execution_count": 135,
     "metadata": {},
     "output_type": "execute_result"
    }
   ],
   "source": [
    "A = sp.Matrix([\n",
    "    [1-y,0,0],\n",
    "    [10,2-y,0],\n",
    "    [2,1,3-y]\n",
    "])\n",
    "sp.linsolve((A.subs(y, 1),x), x1 ,x2, x3)"
   ]
  },
  {
   "cell_type": "code",
   "execution_count": 69,
   "metadata": {},
   "outputs": [
    {
     "data": {
      "text/latex": [
       "$\\displaystyle \\left[\\begin{matrix}2.0 & -20.0 & 8\\end{matrix}\\right]$"
      ],
      "text/plain": [
       "[2.0  -20.0  8]"
      ]
     },
     "execution_count": 69,
     "metadata": {},
     "output_type": "execute_result"
    }
   ],
   "source": [
    "sp.Matrix([[1/4, -5/2, 1]])*8"
   ]
  },
  {
   "cell_type": "code",
   "execution_count": 75,
   "metadata": {},
   "outputs": [
    {
     "data": {
      "image/png": "[encoded data removed]",
      "text/latex": [
       "$\\displaystyle 539$"
      ],
      "text/plain": [
       "539"
      ]
     },
     "execution_count": 75,
     "metadata": {},
     "output_type": "execute_result"
    }
   ],
   "source": [
    "a=sp.Matrix([[3,5,8,5]])\n",
    "b=sp.Matrix([[6,8,7,3]])\n",
    "\n",
    "sp.DotProduct(a+b, a+b).doit()\n"
   ]
  },
  {
   "cell_type": "code",
   "execution_count": 83,
   "metadata": {},
   "outputs": [
    {
     "data": {
      "image/png": "[encoded data removed]",
      "text/latex": [
       "$\\displaystyle 856$"
      ],
      "text/plain": [
       "856"
      ]
     },
     "execution_count": 83,
     "metadata": {},
     "output_type": "execute_result"
    }
   ],
   "source": [
    "C = sp.Matrix([\n",
    "    [1,4,2],\n",
    "    [5,3,6],\n",
    "    [7,8,3]\n",
    "])\n"
   ]
  },
  {
   "cell_type": "code",
   "execution_count": 95,
   "metadata": {},
   "outputs": [
    {
     "data": {
      "text/latex": [
       "$\\displaystyle \\left[\\begin{matrix}\\frac{\\sqrt{5}}{5} & - \\frac{2 \\sqrt{5}}{5}\\\\\\frac{2 \\sqrt{5}}{5} & \\frac{\\sqrt{5}}{5}\\end{matrix}\\right]$"
      ],
      "text/plain": [
       "⎡ √5   -2⋅√5 ⎤\n",
       "⎢ ──   ──────⎥\n",
       "⎢ 5      5   ⎥\n",
       "⎢            ⎥\n",
       "⎢2⋅√5    √5  ⎥\n",
       "⎢────    ──  ⎥\n",
       "⎣ 5      5   ⎦"
      ]
     },
     "execution_count": 95,
     "metadata": {},
     "output_type": "execute_result"
    }
   ],
   "source": [
    "A = sp.Matrix([\n",
    "    [1/sp.sqrt(5), 2/sp.sqrt(5)],\n",
    "    [-2/sp.sqrt(5), 1/sp.sqrt(5)]\n",
    "])\n",
    "A.inv()"
   ]
  },
  {
   "cell_type": "code",
   "execution_count": 101,
   "metadata": {},
   "outputs": [
    {
     "data": {
      "image/png": "[encoded data removed]",
      "text/latex": [
       "$\\displaystyle \\left\\{\\left( x_{3}, \\  x_{3}, \\  x_{3}\\right)\\right\\}$"
      ],
      "text/plain": [
       "{(x₃, x₃, x₃)}"
      ]
     },
     "execution_count": 101,
     "metadata": {},
     "output_type": "execute_result"
    }
   ],
   "source": [
    "y = sp.symbols('lambda')\n",
    "A = sp.Matrix([\n",
    "    [2-y,1,1],\n",
    "    [1,2-y,1],\n",
    "    [1,1,2-y]\n",
    "])\n",
    "x1, x2, x3 = sp.symbols(['x1', 'x2', 'x3'])\n",
    "\n",
    "\n",
    "x = sp.Matrix([0,0,0]).T\n",
    "sp.linsolve((A.subs(y,4),x),x1,x2,x3)"
   ]
  },
  {
   "cell_type": "code",
   "execution_count": 134,
   "metadata": {},
   "outputs": [
    {
     "data": {
      "text/latex": [
       "$\\displaystyle \\left[\\begin{matrix}\\frac{7}{2} & 1 & \\frac{1}{2}\\\\\\frac{3}{2} & \\frac{8}{3} & \\frac{5}{6}\\\\\\frac{3}{2} & \\frac{5}{3} & \\frac{11}{6}\\end{matrix}\\right]$"
      ],
      "text/plain": [
       "⎡7/2   1   1/2 ⎤\n",
       "⎢              ⎥\n",
       "⎢3/2  8/3  5/6 ⎥\n",
       "⎢              ⎥\n",
       "⎣3/2  5/3  11/6⎦"
      ]
     },
     "execution_count": 134,
     "metadata": {},
     "output_type": "execute_result"
    }
   ],
   "source": [
    "A = sp.Matrix([\n",
    "    [4-y,1,1],\n",
    "    [1,2-y,1],\n",
    "    [1,1,2-y]\n",
    "])\n",
    "x1, x2, x3 = sp.symbols(['x1', 'x2', 'x3'])\n",
    "\n",
    "# 1, 2, 5\n",
    "\n",
    "P = sp.Matrix([[0,-1,1],[-1,1,1],[2,1,1]])\n",
    "D = sp.Matrix([[1-y,0,0],[0,2-y,0], [0,0,5-y]])\n",
    "\n",
    "x = sp.Matrix([0,0,0]).T\n",
    "sp.linsolve((A.subs(y, 5),x),x1,x2,x3)\n",
    "\n",
    "P * D.subs(y,0) * P.inv()"
   ]
  },
  {
   "cell_type": "code",
   "execution_count": 130,
   "metadata": {},
   "outputs": [
    {
     "data": {
      "text/latex": [
       "$\\displaystyle \\left[\\begin{matrix}4 & 1 & 1\\\\1 & 2 & 1\\\\1 & 1 & 2\\end{matrix}\\right]$"
      ],
      "text/plain": [
       "⎡4  1  1⎤\n",
       "⎢       ⎥\n",
       "⎢1  2  1⎥\n",
       "⎢       ⎥\n",
       "⎣1  1  2⎦"
      ]
     },
     "execution_count": 130,
     "metadata": {},
     "output_type": "execute_result"
    }
   ],
   "source": [
    "A.subs(y,0)"
   ]
  },
  {
   "cell_type": "code",
   "execution_count": null,
   "metadata": {},
   "outputs": [],
   "source": []
  }
 ],
 "metadata": {
  "interpreter": {
   "hash": "e1d67b35190c898c5b7e02a2e88c487c8bf4962507eec571cc8a46f2eb7e1767"
  },
  "kernelspec": {
   "display_name": "Python 3.9.7 ('base')",
   "language": "python",
   "name": "python3"
  },
  "language_info": {
   "codemirror_mode": {
    "name": "ipython",
    "version": 3
   },
   "file_extension": ".py",
   "mimetype": "text/x-python",
   "name": "python",
   "nbconvert_exporter": "python",
   "pygments_lexer": "ipython3",
   "version": "3.9.7"
  },
  "orig_nbformat": 4
 },
 "nbformat": 4,
 "nbformat_minor": 2
}
