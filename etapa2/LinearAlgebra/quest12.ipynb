{
 "cells": [
  {
   "cell_type": "code",
   "execution_count": 37,
   "metadata": {},
   "outputs": [
    {
     "data": {
      "image/png": "[encoded data removed]",
      "text/latex": [
       "$\\displaystyle 0.304761904761905$"
      ],
      "text/plain": [
       "0.304761904761905"
      ]
     },
     "execution_count": 37,
     "metadata": {},
     "output_type": "execute_result"
    }
   ],
   "source": [
    "import sympy as sp\n",
    "import math\n",
    "\n",
    "sp.init_printing()\n",
    "\n",
    "x1,x2,x3 = sp.symbols(['x1', 'x2', 'x3'])\n",
    "A = sp.Matrix([\n",
    "    [4, 3],\n",
    "    [-4,3],\n",
    "    [3, 6]\n",
    "])\n",
    "b = sp.Matrix([3,3,5])\n",
    "\n",
    "sp.linsolve((A.T * A, A.T * b), x1, x2)\n",
    "x = sp.Matrix([-1/35, 283/315])\n",
    "s = A*x - b\n",
    "math.sqrt(sp.DotProduct(s,s).doit()) - (3*math.sqrt(2)/2)\n",
    "sp.DotProduct(s,s).doit()\n"
   ]
  },
  {
   "cell_type": "code",
   "execution_count": 62,
   "metadata": {},
   "outputs": [
    {
     "data": {
      "image/png": "[encoded data removed]",
      "text/latex": [
       "$\\displaystyle 0.2$"
      ],
      "text/plain": [
       "0.200000000000000"
      ]
     },
     "execution_count": 62,
     "metadata": {},
     "output_type": "execute_result"
    }
   ],
   "source": [
    "A = sp.Matrix([\n",
    "    [1,0],\n",
    "    [1,1],\n",
    "    [1,2],\n",
    "    [1,3]\n",
    "])\n",
    "b = sp.Matrix([1,2,2,3])\n",
    "\n",
    "sp.linsolve((A.T * A, A.T * b), x1, x2)\n",
    "s = A*sp.Matrix([1.1, 0.6]) - b\n",
    "sp.DotProduct(s, s).doit()\n"
   ]
  },
  {
   "cell_type": "code",
   "execution_count": 55,
   "metadata": {},
   "outputs": [
    {
     "data": {
      "image/png": "[encoded data removed]",
      "text/latex": [
       "$\\displaystyle \\left\\{\\left( \\frac{47}{35}, \\  \\frac{34}{35}\\right)\\right\\}$"
      ],
      "text/plain": [
       "⎧⎛47  34⎞⎫\n",
       "⎨⎜──, ──⎟⎬\n",
       "⎩⎝35  35⎠⎭"
      ]
     },
     "execution_count": 55,
     "metadata": {},
     "output_type": "execute_result"
    }
   ],
   "source": [
    "sp.linsolve((sp.Matrix([[4,13],[13,51]]), sp.Matrix([18,67])))"
   ]
  },
  {
   "cell_type": "code",
   "execution_count": 70,
   "metadata": {},
   "outputs": [
    {
     "data": {
      "text/latex": [
       "$\\displaystyle \\left[\\begin{matrix}2.2\\\\-2.81428571428571\\\\0.785714285714286\\end{matrix}\\right]$"
      ],
      "text/plain": [
       "⎡       2.2       ⎤\n",
       "⎢                 ⎥\n",
       "⎢-2.81428571428571⎥\n",
       "⎢                 ⎥\n",
       "⎣0.785714285714286⎦"
      ]
     },
     "execution_count": 70,
     "metadata": {},
     "output_type": "execute_result"
    }
   ],
   "source": [
    "A = sp.Matrix([\n",
    "    [1,1,1],\n",
    "    [1,2,4],\n",
    "    [1,3,9],\n",
    "    [1,4,16],\n",
    "    [1,5,25]\n",
    "])\n",
    "b = sp.Matrix([0,0,1,3,8])\n",
    "\n",
    "sp.linsolve((A.T * A, A.T * b))\n",
    "sp.Matrix([11/5,-197/70,11/14])"
   ]
  },
  {
   "cell_type": "code",
   "execution_count": 86,
   "metadata": {},
   "outputs": [
    {
     "data": {
      "image/png": "[encoded data removed]",
      "text/latex": [
       "$\\displaystyle \\left\\{\\left( - \\tau_{0}, \\  - \\frac{\\tau_{0}}{2}, \\  \\tau_{0}\\right)\\right\\}$"
      ],
      "text/plain": [
       "⎧⎛     -τ₀     ⎞⎫\n",
       "⎨⎜-τ₀, ────, τ₀⎟⎬\n",
       "⎩⎝      2      ⎠⎭"
      ]
     },
     "execution_count": 86,
     "metadata": {},
     "output_type": "execute_result"
    }
   ],
   "source": [
    "A = sp.Matrix([\n",
    "    [7,-4,4],\n",
    "    [-4,5,0],\n",
    "    [4,0,9]\n",
    "])\n",
    "A2 = sp.Matrix([\n",
    "    [3,-2,4],\n",
    "    [-2,6,2],\n",
    "    [4,2,3]\n",
    "])\n",
    "I = sp.eye(3)\n",
    "sp.linsolve((A2 + 2*I, sp.zeros(3,1)))"
   ]
  },
  {
   "cell_type": "code",
   "execution_count": 91,
   "metadata": {},
   "outputs": [
    {
     "data": {
      "text/latex": [
       "$\\displaystyle \\left[\\begin{matrix}0.5 & -0.5 & 0.5 & -0.5\\\\0.5 & 0.5 & 0.5 & 0.5\\\\-0.5 & -0.5 & 0.5 & 0.5\\\\-0.5 & 0.5 & 0.5 & -0.5\\end{matrix}\\right]$"
      ],
      "text/plain": [
       "⎡0.5   -0.5  0.5  -0.5⎤\n",
       "⎢                     ⎥\n",
       "⎢0.5   0.5   0.5  0.5 ⎥\n",
       "⎢                     ⎥\n",
       "⎢-0.5  -0.5  0.5  0.5 ⎥\n",
       "⎢                     ⎥\n",
       "⎣-0.5  0.5   0.5  -0.5⎦"
      ]
     },
     "execution_count": 91,
     "metadata": {},
     "output_type": "execute_result"
    }
   ],
   "source": [
    "sp.Matrix([\n",
    "    [1/2, 1/2, -1/2, -1/2],\n",
    "    [-1/2, 1/2, -1/2, 1/2],\n",
    "    [1/2, 1/2, 1/2, 1/2],\n",
    "    [-1/2, 1/2, 1/2, -1/2],\n",
    "]).inv()"
   ]
  }
 ],
 "metadata": {
  "interpreter": {
   "hash": "8d86c190dfcadcdaa67edec4a1ea82702241987b5b1f320c920d3d4ca36fee5b"
  },
  "kernelspec": {
   "display_name": "Python 3.9.7 ('base')",
   "language": "python",
   "name": "python3"
  },
  "language_info": {
   "name": "python",
   "version": "3.9.7"
  },
  "orig_nbformat": 4
 },
 "nbformat": 4,
 "nbformat_minor": 2
}
