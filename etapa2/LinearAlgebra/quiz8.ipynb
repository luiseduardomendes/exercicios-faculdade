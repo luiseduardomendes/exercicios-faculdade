{
 "cells": [
  {
   "cell_type": "code",
   "execution_count": 6,
   "metadata": {},
   "outputs": [
    {
     "data": {
      "image/png": "[encoded data removed]",
      "text/latex": [
       "$\\displaystyle -576$"
      ],
      "text/plain": [
       "-576"
      ]
     },
     "execution_count": 6,
     "metadata": {},
     "output_type": "execute_result"
    }
   ],
   "source": [
    "import sympy as sp\n",
    "\n",
    "sp.init_printing()\n",
    "\n",
    "sp.Matrix([\n",
    "        [2,0,2,0,3],\n",
    "        [2,2,6,0,-4],\n",
    "        [3,0,8,3,-4],\n",
    "        [6,0,0,0,6],\n",
    "        [8,0,0,0,0]\n",
    "]).det()"
   ]
  },
  {
   "cell_type": "code",
   "execution_count": 9,
   "metadata": {},
   "outputs": [
    {
     "data": {
      "text/latex": [
       "$\\displaystyle \\left[\\begin{matrix}0.666666666666667\\\\2.0\\end{matrix}\\right]$"
      ],
      "text/plain": [
       "⎡0.666666666666667⎤\n",
       "⎢                 ⎥\n",
       "⎣       2.0       ⎦"
      ]
     },
     "execution_count": 9,
     "metadata": {},
     "output_type": "execute_result"
    }
   ],
   "source": [
    "A = sp.Matrix([\n",
    "        [5,-1],\n",
    "        [6, 0]\n",
    "])\n",
    "x = sp.Matrix([2/3, 21])\n",
    "A*x\n",
    "\n"
   ]
  }
 ],
 "metadata": {
  "interpreter": {
   "hash": "8d86c190dfcadcdaa67edec4a1ea82702241987b5b1f320c920d3d4ca36fee5b"
  },
  "kernelspec": {
   "display_name": "Python 3.9.7 ('base')",
   "language": "python",
   "name": "python3"
  },
  "language_info": {
   "codemirror_mode": {
    "name": "ipython",
    "version": 3
   },
   "file_extension": ".py",
   "mimetype": "text/x-python",
   "name": "python",
   "nbconvert_exporter": "python",
   "pygments_lexer": "ipython3",
   "version": "3.9.7"
  },
  "orig_nbformat": 4
 },
 "nbformat": 4,
 "nbformat_minor": 2
}
