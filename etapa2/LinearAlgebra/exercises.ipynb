{
 "cells": [
  {
   "cell_type": "code",
   "execution_count": 1,
   "metadata": {},
   "outputs": [],
   "source": [
    "import sympy as sp\n",
    "sp.init_printing()\n",
    "x1,x2,x3,x4 = sp.symbols(['x1', 'x2', 'x3', 'x4'])\n",
    "\n"
   ]
  },
  {
   "cell_type": "markdown",
   "metadata": {},
   "source": [
    "Questao 8"
   ]
  },
  {
   "cell_type": "code",
   "execution_count": 2,
   "metadata": {},
   "outputs": [
    {
     "name": "stderr",
     "output_type": "stream",
     "text": [
      "E:\\anaconda\\lib\\site-packages\\IPython\\lib\\latextools.py:126: MatplotlibDeprecationWarning: \n",
      "The to_png function was deprecated in Matplotlib 3.4 and will be removed two minor releases later. Use mathtext.math_to_image instead.\n",
      "  mt.to_png(f, s, fontsize=12, dpi=dpi, color=color)\n",
      "E:\\anaconda\\lib\\site-packages\\IPython\\lib\\latextools.py:126: MatplotlibDeprecationWarning: \n",
      "The to_rgba function was deprecated in Matplotlib 3.4 and will be removed two minor releases later. Use mathtext.math_to_image instead.\n",
      "  mt.to_png(f, s, fontsize=12, dpi=dpi, color=color)\n",
      "E:\\anaconda\\lib\\site-packages\\IPython\\lib\\latextools.py:126: MatplotlibDeprecationWarning: \n",
      "The to_mask function was deprecated in Matplotlib 3.4 and will be removed two minor releases later. Use mathtext.math_to_image instead.\n",
      "  mt.to_png(f, s, fontsize=12, dpi=dpi, color=color)\n",
      "E:\\anaconda\\lib\\site-packages\\IPython\\lib\\latextools.py:126: MatplotlibDeprecationWarning: \n",
      "The MathtextBackendBitmap class was deprecated in Matplotlib 3.4 and will be removed two minor releases later. Use mathtext.math_to_image instead.\n",
      "  mt.to_png(f, s, fontsize=12, dpi=dpi, color=color)\n"
     ]
    },
    {
     "data": {
      "image/png": "[encoded data removed]",
      "text/latex": [
       "$\\displaystyle \\left\\{\\left( -3, \\  10, \\  4\\right)\\right\\}$"
      ],
      "text/plain": [
       "{(-3, 10, 4)}"
      ]
     },
     "execution_count": 2,
     "metadata": {},
     "output_type": "execute_result"
    }
   ],
   "source": [
    "A = sp.Matrix([\n",
    "    [3,1,1],\n",
    "    [-2,-1,1],\n",
    "    [1,2,-5]\n",
    "])\n",
    "X = sp.Matrix([5,0,-3])\n",
    "sp.linsolve((A, X), x1,x2,x3)"
   ]
  },
  {
   "cell_type": "markdown",
   "metadata": {},
   "source": [
    "Questao 9"
   ]
  },
  {
   "cell_type": "code",
   "execution_count": 3,
   "metadata": {},
   "outputs": [
    {
     "data": {
      "image/png": "[encoded data removed]",
      "text/latex": [
       "$\\displaystyle \\left\\{\\left( 4, \\  3, \\  x_{3}\\right)\\right\\}$"
      ],
      "text/plain": [
       "{(4, 3, x₃)}"
      ]
     },
     "execution_count": 3,
     "metadata": {},
     "output_type": "execute_result"
    }
   ],
   "source": [
    "A = sp.Matrix([[1,-3,0], [-3,7,0]])\n",
    "X = sp.Matrix([-5,9])\n",
    "\n",
    "sp.linsolve((A, X), x1,x2,x3)"
   ]
  },
  {
   "cell_type": "markdown",
   "metadata": {},
   "source": [
    "Questao 14"
   ]
  },
  {
   "cell_type": "code",
   "execution_count": 4,
   "metadata": {},
   "outputs": [
    {
     "data": {
      "text/latex": [
       "$\\displaystyle \\left( \\left[\\begin{matrix}1 & 0 & 0 & 0\\\\0 & 1 & 0 & 0\\\\0 & 0 & 1 & 0\\\\0 & 0 & 0 & 1\\end{matrix}\\right], \\  \\left( 0, \\  1, \\  2, \\  3\\right)\\right)$"
      ],
      "text/plain": [
       "⎛⎡1  0  0  0⎤              ⎞\n",
       "⎜⎢          ⎥              ⎟\n",
       "⎜⎢0  1  0  0⎥              ⎟\n",
       "⎜⎢          ⎥, (0, 1, 2, 3)⎟\n",
       "⎜⎢0  0  1  0⎥              ⎟\n",
       "⎜⎢          ⎥              ⎟\n",
       "⎝⎣0  0  0  1⎦              ⎠"
      ]
     },
     "execution_count": 4,
     "metadata": {},
     "output_type": "execute_result"
    }
   ],
   "source": [
    "sp.Matrix([\n",
    "    [9,-5,1,-1],\n",
    "    [8,-5,-3,1],\n",
    "    [0,4,7,6],\n",
    "    [0,2,-7,7]\n",
    "]).rref()\n"
   ]
  },
  {
   "cell_type": "code",
   "execution_count": 5,
   "metadata": {},
   "outputs": [
    {
     "data": {
      "text/latex": [
       "$\\displaystyle \\left[\\begin{matrix}-9 & -4 & -8 & 15\\\\-10 & 1 & -5 & 12\\\\25 & 1 & 15 & -33\\end{matrix}\\right]$"
      ],
      "text/plain": [
       "⎡-9   -4  -8  15 ⎤\n",
       "⎢                ⎥\n",
       "⎢-10  1   -5  12 ⎥\n",
       "⎢                ⎥\n",
       "⎣25   1   15  -33⎦"
      ]
     },
     "execution_count": 5,
     "metadata": {},
     "output_type": "execute_result"
    }
   ],
   "source": [
    "A = sp.Matrix([[-3,2],[-1,3],[4,-7]])\n",
    "B = sp.Matrix([[1,2,2,-3], [-3,1,-1,3]])\n",
    "\n",
    "A*B"
   ]
  },
  {
   "cell_type": "code",
   "execution_count": 7,
   "metadata": {},
   "outputs": [
    {
     "data": {
      "text/latex": [
       "$\\displaystyle \\left[\\begin{matrix}\\frac{1}{4} & \\frac{1}{4}\\\\\\frac{3}{8} & - \\frac{1}{8}\\end{matrix}\\right]$"
      ],
      "text/plain": [
       "⎡1/4  1/4 ⎤\n",
       "⎢         ⎥\n",
       "⎣3/8  -1/8⎦"
      ]
     },
     "execution_count": 7,
     "metadata": {},
     "output_type": "execute_result"
    }
   ],
   "source": [
    "sp.Matrix([[1,2],[3,-2]]).inv()"
   ]
  },
  {
   "cell_type": "code",
   "execution_count": 9,
   "metadata": {},
   "outputs": [
    {
     "data": {
      "text/latex": [
       "$\\displaystyle \\left[\\begin{matrix}2 & 0\\\\0 & 3\\end{matrix}\\right]$"
      ],
      "text/plain": [
       "⎡2  0⎤\n",
       "⎢    ⎥\n",
       "⎣0  3⎦"
      ]
     },
     "execution_count": 9,
     "metadata": {},
     "output_type": "execute_result"
    }
   ],
   "source": [
    "sp.Matrix([[1,2],[0,1]]) * sp.Matrix([[2,-6],[0,3]])"
   ]
  },
  {
   "cell_type": "code",
   "execution_count": 11,
   "metadata": {},
   "outputs": [
    {
     "data": {
      "text/latex": [
       "$\\displaystyle \\left[\\begin{matrix}3 & 0 & 1\\\\-6 & -1 & -1\\\\-10 & -2 & -1\\end{matrix}\\right]$"
      ],
      "text/plain": [
       "⎡ 3   0   1 ⎤\n",
       "⎢           ⎥\n",
       "⎢-6   -1  -1⎥\n",
       "⎢           ⎥\n",
       "⎣-10  -2  -1⎦"
      ]
     },
     "execution_count": 11,
     "metadata": {},
     "output_type": "execute_result"
    }
   ],
   "source": [
    "sp.Matrix([[1,2,-1],[-4,-7,3],[-2,-6,3]]).inv()"
   ]
  },
  {
   "cell_type": "code",
   "execution_count": 16,
   "metadata": {},
   "outputs": [
    {
     "data": {
      "image/png": "[encoded data removed]",
      "text/latex": [
       "$\\displaystyle \\left\\{\\left( -7, \\  5\\right)\\right\\}$"
      ],
      "text/plain": [
       "{(-7, 5)}"
      ]
     },
     "execution_count": 16,
     "metadata": {},
     "output_type": "execute_result"
    }
   ],
   "source": [
    "sp.Matrix([[2,3],[5,7]]).inv()\n",
    "\n",
    "sp.linsolve((sp.Matrix([[2,3],[5,7]]), sp.Matrix([1,0])))"
   ]
  },
  {
   "cell_type": "code",
   "execution_count": 27,
   "metadata": {},
   "outputs": [
    {
     "data": {
      "image/png": "[encoded data removed]",
      "text/latex": [
       "$\\displaystyle \\left\\{\\left( 1, \\  1, \\  3\\right)\\right\\}$"
      ],
      "text/plain": [
       "{(1, 1, 3)}"
      ]
     },
     "execution_count": 27,
     "metadata": {},
     "output_type": "execute_result"
    }
   ],
   "source": [
    "sp.linsolve((sp.Matrix([[1,-2,1],[2,0,1],[1,1,0]]), sp.Matrix([2,5,2])), x1,x2,x3)"
   ]
  },
  {
   "cell_type": "code",
   "execution_count": 6,
   "metadata": {},
   "outputs": [
    {
     "data": {
      "text/latex": [
       "$\\displaystyle \\left[\\begin{matrix}2\\\\5\\\\2\\end{matrix}\\right]$"
      ],
      "text/plain": [
       "⎡2⎤\n",
       "⎢ ⎥\n",
       "⎢5⎥\n",
       "⎢ ⎥\n",
       "⎣2⎦"
      ]
     },
     "execution_count": 6,
     "metadata": {},
     "output_type": "execute_result"
    }
   ],
   "source": [
    "sp.Matrix([[1,-2,1],[2,0,1],[1,1,0]]) * sp.Matrix([1,1,3])"
   ]
  },
  {
   "cell_type": "code",
   "execution_count": 10,
   "metadata": {},
   "outputs": [
    {
     "data": {
      "text/latex": [
       "$\\displaystyle \\left( \\left[\\begin{matrix}1 & 0 & 0\\\\0 & 1 & 0\\\\0 & 0 & 1\\end{matrix}\\right], \\  \\left( 0, \\  1, \\  2\\right)\\right)$"
      ],
      "text/plain": [
       "⎛⎡1  0  0⎤           ⎞\n",
       "⎜⎢       ⎥           ⎟\n",
       "⎜⎢0  1  0⎥, (0, 1, 2)⎟\n",
       "⎜⎢       ⎥           ⎟\n",
       "⎝⎣0  0  1⎦           ⎠"
      ]
     },
     "execution_count": 10,
     "metadata": {},
     "output_type": "execute_result"
    }
   ],
   "source": [
    "sp.Matrix([[1,1,2],[1,1,0], [-1,1,-1]]).T.rref()"
   ]
  },
  {
   "cell_type": "code",
   "execution_count": 15,
   "metadata": {},
   "outputs": [
    {
     "data": {
      "text/latex": [
       "$\\displaystyle \\left( \\left[\\begin{matrix}1 & 0 & 0\\\\0 & 1 & 0\\\\0 & 0 & 1\\end{matrix}\\right], \\  \\left( 0, \\  1, \\  2\\right)\\right)$"
      ],
      "text/plain": [
       "⎛⎡1  0  0⎤           ⎞\n",
       "⎜⎢       ⎥           ⎟\n",
       "⎜⎢0  1  0⎥, (0, 1, 2)⎟\n",
       "⎜⎢       ⎥           ⎟\n",
       "⎝⎣0  0  1⎦           ⎠"
      ]
     },
     "execution_count": 15,
     "metadata": {},
     "output_type": "execute_result"
    }
   ],
   "source": [
    "sp.Matrix([[1,2,-1],[3,4,-1],[2,5,-1]]).T.rref()"
   ]
  },
  {
   "cell_type": "code",
   "execution_count": 25,
   "metadata": {},
   "outputs": [
    {
     "data": {
      "image/png": "[encoded data removed]",
      "text/latex": [
       "$\\displaystyle \\emptyset$"
      ],
      "text/plain": [
       "∅"
      ]
     },
     "execution_count": 25,
     "metadata": {},
     "output_type": "execute_result"
    }
   ],
   "source": [
    "a = 1\n",
    "\n",
    "sp.linsolve((sp.Matrix([[1,0,a],[1,1,4],[1,0,1]]), sp.Matrix([-1,3,a])), x1,x2,x3)"
   ]
  },
  {
   "cell_type": "code",
   "execution_count": 7,
   "metadata": {},
   "outputs": [
    {
     "data": {
      "image/png": "[encoded data removed]",
      "text/latex": [
       "$\\displaystyle \\left\\{\\left( 0, \\  0, \\  1, \\  0\\right)\\right\\}$"
      ],
      "text/plain": [
       "{(0, 0, 1, 0)}"
      ]
     },
     "execution_count": 7,
     "metadata": {},
     "output_type": "execute_result"
    }
   ],
   "source": [
    "A = sp.Matrix([\n",
    "    [1,1,1,1],\n",
    "    [-1,0,1,2],\n",
    "    [1,0,1,4],\n",
    "    [-1,0,1,8]\n",
    "])\n",
    "\n",
    "\n",
    "\n",
    "sp.linsolve((A*A.T, A*sp.Matrix([1,0,1,4])),x1,x2,x3,x4)"
   ]
  },
  {
   "cell_type": "code",
   "execution_count": 12,
   "metadata": {},
   "outputs": [
    {
     "data": {
      "image/png": "[encoded data removed]",
      "text/latex": [
       "$\\displaystyle \\left\\{\\left( 1.0322088225019, \\  x_{2}, \\  x_{3}, \\  x_{4}\\right)\\right\\}$"
      ],
      "text/plain": [
       "{(1.0322088225019, x₂, x₃, x₄)}"
      ]
     },
     "execution_count": 12,
     "metadata": {},
     "output_type": "execute_result"
    }
   ],
   "source": [
    "A = sp.Matrix([\n",
    "    [1/(0.1**2)],\n",
    "    [1/(0.07**2)],\n",
    "    [1/(0.05**2)],\n",
    "    [1/(0.02**2)]\n",
    "])\n",
    "\n",
    "sp.linsolve((A.T*A, A.T*sp.Matrix([55,140,333,2601])),x1,x2,x3,x4)"
   ]
  },
  {
   "cell_type": "code",
   "execution_count": null,
   "metadata": {},
   "outputs": [],
   "source": [
    "import numpy as np\n",
    "\n"
   ]
  }
 ],
 "metadata": {
  "interpreter": {
   "hash": "8d86c190dfcadcdaa67edec4a1ea82702241987b5b1f320c920d3d4ca36fee5b"
  },
  "kernelspec": {
   "display_name": "Python 3.9.7 ('base')",
   "language": "python",
   "name": "python3"
  },
  "language_info": {
   "codemirror_mode": {
    "name": "ipython",
    "version": 3
   },
   "file_extension": ".py",
   "mimetype": "text/x-python",
   "name": "python",
   "nbconvert_exporter": "python",
   "pygments_lexer": "ipython3",
   "version": "3.9.7"
  },
  "orig_nbformat": 4
 },
 "nbformat": 4,
 "nbformat_minor": 2
}
