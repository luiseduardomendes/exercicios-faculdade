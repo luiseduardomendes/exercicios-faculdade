{
 "cells": [
  {
   "cell_type": "code",
   "execution_count": 1,
   "metadata": {},
   "outputs": [],
   "source": [
    "import numpy as np\n",
    "import sympy as sp"
   ]
  },
  {
   "cell_type": "code",
   "execution_count": 2,
   "metadata": {},
   "outputs": [],
   "source": [
    "class Particle:\n",
    "    def __init__(self, position : list, mass : float, charge : float, velocity : list) -> None:\n",
    "        self.x, self.y = sp.symbols(['x', 'y'])\n",
    "\n",
    "        self.mass = mass\n",
    "        self.charge = charge\n",
    "        if self.__vectorCheck__(position):\n",
    "            self.position = np.array(position)\n",
    "        if self.__vectorCheck__(velocity):\n",
    "            self.velocity = np.array(velocity)\n",
    "        self.acceleration = np.array([0, 0])\n",
    "\n",
    "    def __vectorCheck__(self, vector : list) -> bool:\n",
    "        if len(vector) != 2 or type(vector[0]) != float or type(vector[1]) != float:\n",
    "            return False\n",
    "        return True\n",
    "    \n",
    "    def setAcceleration(self, fx, fy) -> None:\n",
    "        self.acceleration = np.array([fx / self.mass, fy / self.mass])   \n",
    "\n",
    "    def updateVelocity(self) -> None:\n",
    "        self.velocity = self.velocity + (self.acceleration / 60)\n",
    "\n",
    "    def updatePosition(self) -> None:\n",
    "        self.position = self.position + (self.velocity / 60)\n"
   ]
  },
  {
   "cell_type": "code",
   "execution_count": null,
   "metadata": {},
   "outputs": [],
   "source": [
    "class CathodeRayTube:\n",
    "    def __init__(self, eletricField, magneticField, length):\n",
    "        self.eletricField = eletricField\n",
    "        self.magneticField = magneticField\n",
    "        self.length = length"
   ]
  },
  {
   "cell_type": "code",
   "execution_count": 14,
   "metadata": {},
   "outputs": [],
   "source": [
    "class vectorialField:\n",
    "    def __init__(self, fx, fy) -> None:\n",
    "        self.x, self.y = sp.symbols(['x', 'y'])\n",
    "        self.fx = fx\n",
    "        self.fy = fy\n",
    "\n",
    "    def vectorInPosition(self, posx, posy) -> np.array:\n",
    "        return np.array([self.fx.subs(self.x, posx), self.fy.subs(self.y, posy)])\n",
    "        "
   ]
  },
  {
   "cell_type": "code",
   "execution_count": 16,
   "metadata": {},
   "outputs": [
    {
     "data": {
      "text/plain": [
       "array([1, 1], dtype=object)"
      ]
     },
     "execution_count": 16,
     "metadata": {},
     "output_type": "execute_result"
    }
   ],
   "source": [
    "\n",
    "electron = Particle(\n",
    "    [0, 0],                     # initial position\n",
    "    9.10938356 * 10**(-31),     # electron mass\n",
    "    1.60217662 * 10**(-19),     # electron charge\n",
    "    [3 * 10 ** 7, 0]            # initial velocity\n",
    ")\n",
    "\n",
    "eletricFieldCathodeRay = vectorialField()\n"
   ]
  },
  {
   "cell_type": "code",
   "execution_count": null,
   "metadata": {},
   "outputs": [],
   "source": []
  },
  {
   "cell_type": "code",
   "execution_count": null,
   "metadata": {},
   "outputs": [],
   "source": []
  },
  {
   "cell_type": "code",
   "execution_count": 76,
   "metadata": {},
   "outputs": [
    {
     "data": {
      "text/plain": [
       "<matplotlib.collections.PathCollection at 0x1b77f729a30>"
      ]
     },
     "execution_count": 76,
     "metadata": {},
     "output_type": "execute_result"
    },
    {
     "data": {
      "image/png": "[encoded data removed]",
      "text/plain": [
       "<Figure size 432x288 with 1 Axes>"
      ]
     },
     "metadata": {
      "needs_background": "light"
     },
     "output_type": "display_data"
    }
   ],
   "source": [
    "import matplotlib.pyplot as plt\n",
    "\n",
    "mu0 = 25\n",
    "e = 1.602*10**(-19)\n",
    "m = 9.11*10**(-31)\n",
    "v = 3600\n",
    "k = 10 ** (-7)\n",
    "\n",
    "x = np.linspace(0.15,0.35,100)\n",
    "x2 = np.linspace(0.15,0.35,5)\n",
    "\n",
    "B = (2 * mu0 * k) / (x**3)\n",
    "y = (e * (B)**2 * x**2) / (2 * m * v)\n",
    "\n",
    "B2 = (2 * mu0 * k) / (x2**3)\n",
    "y2 = (e * (B2)**2 * x2**2) / (2 * m * v)\n",
    "\n",
    "plt.plot(x, y)\n",
    "plt.scatter(x2, y2)\n",
    "\n",
    "# desvio (em metros) causado por um campo magnetico externo"
   ]
  },
  {
   "cell_type": "code",
   "execution_count": 77,
   "metadata": {},
   "outputs": [
    {
     "data": {
      "text/plain": [
       "<matplotlib.collections.PathCollection at 0x1b77ded60d0>"
      ]
     },
     "execution_count": 77,
     "metadata": {},
     "output_type": "execute_result"
    },
    {
     "data": {
      "image/png": "[encoded data removed]",
      "text/plain": [
       "<Figure size 432x288 with 1 Axes>"
      ]
     },
     "metadata": {
      "needs_background": "light"
     },
     "output_type": "display_data"
    }
   ],
   "source": [
    "plt.plot(x,B)\n",
    "plt.scatter(x2,B2)\n",
    "# campo gerado a uma certa distancia"
   ]
  },
  {
   "cell_type": "code",
   "execution_count": 81,
   "metadata": {},
   "outputs": [
    {
     "data": {
      "text/html": [
       "<div>\n",
       "<style scoped>\n",
       "    .dataframe tbody tr th:only-of-type {\n",
       "        vertical-align: middle;\n",
       "    }\n",
       "\n",
       "    .dataframe tbody tr th {\n",
       "        vertical-align: top;\n",
       "    }\n",
       "\n",
       "    .dataframe thead th {\n",
       "        text-align: right;\n",
       "    }\n",
       "</style>\n",
       "<table border=\"1\" class=\"dataframe\">\n",
       "  <thead>\n",
       "    <tr style=\"text-align: right;\">\n",
       "      <th></th>\n",
       "      <th>0</th>\n",
       "      <th>1</th>\n",
       "      <th>2</th>\n",
       "      <th>3</th>\n",
       "      <th>4</th>\n",
       "    </tr>\n",
       "  </thead>\n",
       "  <tbody>\n",
       "    <tr>\n",
       "      <th>0</th>\n",
       "      <td>0.150000</td>\n",
       "      <td>0.20000</td>\n",
       "      <td>0.250000</td>\n",
       "      <td>0.300000</td>\n",
       "      <td>0.350000</td>\n",
       "    </tr>\n",
       "    <tr>\n",
       "      <th>1</th>\n",
       "      <td>1.206109</td>\n",
       "      <td>0.38162</td>\n",
       "      <td>0.156312</td>\n",
       "      <td>0.075382</td>\n",
       "      <td>0.040689</td>\n",
       "    </tr>\n",
       "  </tbody>\n",
       "</table>\n",
       "</div>"
      ],
      "text/plain": [
       "          0        1         2         3         4\n",
       "0  0.150000  0.20000  0.250000  0.300000  0.350000\n",
       "1  1.206109  0.38162  0.156312  0.075382  0.040689"
      ]
     },
     "execution_count": 81,
     "metadata": {},
     "output_type": "execute_result"
    }
   ],
   "source": [
    "import pandas as pd\n",
    "\n",
    "dfy = pd.DataFrame(np.array([x2,y2]))\n",
    "dfb = pd.DataFrame(np.array([x2,B2]))\n",
    "dfy"
   ]
  }
 ],
 "metadata": {
  "interpreter": {
   "hash": "8d86c190dfcadcdaa67edec4a1ea82702241987b5b1f320c920d3d4ca36fee5b"
  },
  "kernelspec": {
   "display_name": "Python 3.9.7 ('base')",
   "language": "python",
   "name": "python3"
  },
  "language_info": {
   "codemirror_mode": {
    "name": "ipython",
    "version": 3
   },
   "file_extension": ".py",
   "mimetype": "text/x-python",
   "name": "python",
   "nbconvert_exporter": "python",
   "pygments_lexer": "ipython3",
   "version": "3.9.7"
  },
  "orig_nbformat": 4
 },
 "nbformat": 4,
 "nbformat_minor": 2
}
