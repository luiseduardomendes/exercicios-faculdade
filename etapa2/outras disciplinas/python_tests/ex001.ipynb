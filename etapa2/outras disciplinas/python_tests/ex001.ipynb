{
 "cells": [
  {
   "cell_type": "code",
   "execution_count": 38,
   "metadata": {},
   "outputs": [
    {
     "name": "stdout",
     "output_type": "stream",
     "text": [
      "['Luis', 'Jose', 'Ana', 'Carla']\n",
      "['Luis', 'Jose', 'Ana']\n"
     ]
    }
   ],
   "source": [
    "# making a dict from a list\n",
    "data_list_1 = [ \n",
    "    {\n",
    "        'codigo': 1,\n",
    "        'nome': 'Luis', \n",
    "        'idade': 19, \n",
    "        'altura': 1.84\n",
    "    },\n",
    "    {\n",
    "        'codigo': 2,\n",
    "        'nome': 'Jose', \n",
    "        'idade': 16, \n",
    "        'altura': 1.80\n",
    "    },\n",
    "    {\n",
    "        'codigo': 3,\n",
    "        'nome': 'Ana', \n",
    "        'idade': 23, \n",
    "        'altura': 1.77\n",
    "    },\n",
    "    {\n",
    "        'codigo': 4,\n",
    "        'nome': 'Carla', \n",
    "        'idade': 20, \n",
    "        'altura': 1.77\n",
    "    }\n",
    "]\n",
    "name_list = [element['nome'] for element in data_list_1]\n",
    "print(name_list)\n",
    "name_list = [element['nome'] for element in data_list_1 if element['idade'] != 20]\n",
    "print(name_list)\n",
    "    "
   ]
  },
  {
   "cell_type": "code",
   "execution_count": 39,
   "metadata": {},
   "outputs": [],
   "source": [
    "troca = True\n",
    "while troca:\n",
    "    troca = False\n",
    "\n",
    "    for i in range(0, len(data_list_1) - 1):\n",
    "        if data_list_1[i]['idade'] > data_list_1[i + 1]['idade']:\n",
    "            buffer = data_list_1[i]\n",
    "            data_list_1[i] = data_list_1[i+1]\n",
    "            data_list_1[i + 1] = buffer\n",
    "            troca = True\n"
   ]
  },
  {
   "cell_type": "code",
   "execution_count": 40,
   "metadata": {},
   "outputs": [],
   "source": [
    "dict_lists_available = {\n",
    "    'nome': [],\n",
    "    'idade': [],\n",
    "    'altura': []\n",
    "}\n",
    "\n",
    "parameters_available = (\n",
    "    'nome', 'idade', 'altura'\n",
    ")"
   ]
  },
  {
   "cell_type": "code",
   "execution_count": 41,
   "metadata": {},
   "outputs": [
    {
     "name": "stdout",
     "output_type": "stream",
     "text": [
      "{'nome': [(2, 'Jose'), (1, 'Luis'), (4, 'Carla'), (3, 'Ana')], 'idade': [(2, 16), (1, 19), (4, 20), (3, 23)], 'altura': [(2, 1.8), (1, 1.84), (4, 1.77), (3, 1.77)]}\n"
     ]
    }
   ],
   "source": [
    "\n",
    "for parameter in parameters_available:\n",
    "    for element in data_list_1:\n",
    "        dict_lists_available[parameter].append((element['codigo'], element[parameter]))\n",
    "    \n",
    "print(dict_lists_available)"
   ]
  },
  {
   "cell_type": "code",
   "execution_count": null,
   "metadata": {},
   "outputs": [],
   "source": []
  }
 ],
 "metadata": {
  "interpreter": {
   "hash": "8d86c190dfcadcdaa67edec4a1ea82702241987b5b1f320c920d3d4ca36fee5b"
  },
  "kernelspec": {
   "display_name": "Python 3.9.7 ('base')",
   "language": "python",
   "name": "python3"
  },
  "language_info": {
   "codemirror_mode": {
    "name": "ipython",
    "version": 3
   },
   "file_extension": ".py",
   "mimetype": "text/x-python",
   "name": "python",
   "nbconvert_exporter": "python",
   "pygments_lexer": "ipython3",
   "version": "3.9.7"
  },
  "orig_nbformat": 4
 },
 "nbformat": 4,
 "nbformat_minor": 2
}
