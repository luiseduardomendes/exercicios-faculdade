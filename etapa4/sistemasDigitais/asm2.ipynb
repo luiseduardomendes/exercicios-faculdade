{
 "cells": [
  {
   "cell_type": "code",
   "execution_count": 35,
   "metadata": {},
   "outputs": [
    {
     "data": {
      "text/latex": [
       "$\\displaystyle \\left( \\left[\\begin{matrix}a_{11} b_{11} & a_{11} b_{12}\\\\a_{21} b_{11} & a_{21} b_{12}\\end{matrix}\\right], \\  \\left[\\begin{matrix}a_{12} b_{21} & a_{12} b_{22}\\\\a_{22} b_{21} & a_{22} b_{22}\\end{matrix}\\right]\\right)$"
      ],
      "text/plain": [
       "⎛⎡a_{11}⋅b_{11}  a_{11}⋅b_{12}⎤  ⎡a_{12}⋅b_{21}  a_{12}⋅b_{22}⎤⎞\n",
       "⎜⎢                            ⎥, ⎢                            ⎥⎟\n",
       "⎝⎣a_{21}⋅b_{11}  a_{21}⋅b_{12}⎦  ⎣a_{22}⋅b_{21}  a_{22}⋅b_{22}⎦⎠"
      ]
     },
     "execution_count": 35,
     "metadata": {},
     "output_type": "execute_result"
    }
   ],
   "source": [
    "import sympy as sp\n",
    "\n",
    "sp.init_printing()\n",
    "\n",
    "a11, a12, a21, a22, b11, b12, b21, b22 = sp.symbols(\n",
    "    ['a_{11}', 'a_{12}', 'a_{21}', 'a_{22}']\n",
    "    +\n",
    "    ['b_{11}', 'b_{12}', 'b_{21}', 'b_{22}']\n",
    ")\n",
    "\n",
    "A = [[a11, a12],[a21, a22]]\n",
    "B = [[b11, b12],[b21, b22]]\n",
    "S1 = [[0,0],[0,0]]\n",
    "S2 = [[0,0],[0,0]]\n",
    "A\n",
    "\n",
    "for i in range(2):\n",
    "    for j in range(2):\n",
    "        for k in range(2):\n",
    "            if k == 0:\n",
    "                S1[i][j] = A[i][k] * B[k][j]\n",
    "            else:\n",
    "                S2[i][j] = A[i][k] * B[k][j]\n",
    "\n",
    "S1 = sp.Matrix(S1)\n",
    "S2 = sp.Matrix(S2)\n",
    "\n",
    "S1, S2"
   ]
  }
 ],
 "metadata": {
  "kernelspec": {
   "display_name": "base",
   "language": "python",
   "name": "python3"
  },
  "language_info": {
   "codemirror_mode": {
    "name": "ipython",
    "version": 3
   },
   "file_extension": ".py",
   "mimetype": "text/x-python",
   "name": "python",
   "nbconvert_exporter": "python",
   "pygments_lexer": "ipython3",
   "version": "3.9.12"
  },
  "orig_nbformat": 4
 },
 "nbformat": 4,
 "nbformat_minor": 2
}
