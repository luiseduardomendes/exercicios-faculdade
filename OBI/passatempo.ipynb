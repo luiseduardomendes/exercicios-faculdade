{
 "cells": [
  {
   "cell_type": "code",
   "execution_count": 16,
   "metadata": {},
   "outputs": [
    {
     "name": "stdout",
     "output_type": "stream",
     "text": [
      "df\tbb\tcg\tdf\tdf\t11\t\n",
      "ee\taz\tcg\taz\tee\t6\t\n",
      "df\tcg\tcg\tdf\tdf\t10\t\n",
      "az\taz\tcg\taz\taz\t6\t\n",
      "6\t7\t8\t6\t6\tNone\t\n"
     ]
    },
    {
     "data": {
      "text/plain": [
       "{'df': None, 'bb': None, 'cg': 2.0, 'ee': None, 'az': None}"
      ]
     },
     "execution_count": 16,
     "metadata": {},
     "output_type": "execute_result"
    }
   ],
   "source": [
    "L = 4\n",
    "C = 5\n",
    "\n",
    "var = [\n",
    "    ['df', 'bb', 'cg', 'df', 'df', 11],\n",
    "    ['ee', 'az', 'cg', 'az', 'ee', 6],\n",
    "    ['df', 'cg', 'cg', 'df', 'df', 10],\n",
    "    ['az', 'az', 'cg', 'az', 'az', 6],\n",
    "    [6, 7, 8, 6, 6, None],\n",
    "]\n",
    "\n",
    "var2 = var[:]\n",
    "\n",
    "for i in range(L+1):\n",
    "    for j in range (C+1):\n",
    "        print(var[i][j], end='\\t')\n",
    "    print()\n",
    "\n",
    "solve = {}\n",
    "\n",
    "for i in range(L):\n",
    "    for j in range(C):\n",
    "        solve[var[i][j]] = None\n",
    "\n",
    "for i in range(L):\n",
    "    v = var[i][0]\n",
    "    diff = False\n",
    "    for j in range(1, C):\n",
    "        if v != var[i][j]:\n",
    "            diff = True\n",
    "            break\n",
    "    if not diff:\n",
    "        solve[v] = var[i][C]/C\n",
    "\n",
    "for i in range(C):\n",
    "    v = var[0][i]\n",
    "    diff = False\n",
    "    for j in range(1, L):\n",
    "        if v != var[j][i]:\n",
    "            diff = True\n",
    "            break\n",
    "    if not diff:\n",
    "        solve[v] = var[L][i]/L\n",
    "\n",
    "for i in range(L):\n",
    "    for j in range(C):\n",
    "        var2[i][j] = None\n",
    "    \n",
    "        \n",
    "            \n",
    "\n"
   ]
  }
 ],
 "metadata": {
  "kernelspec": {
   "display_name": "Python 3.9.12 ('base')",
   "language": "python",
   "name": "python3"
  },
  "language_info": {
   "codemirror_mode": {
    "name": "ipython",
    "version": 3
   },
   "file_extension": ".py",
   "mimetype": "text/x-python",
   "name": "python",
   "nbconvert_exporter": "python",
   "pygments_lexer": "ipython3",
   "version": "3.9.12"
  },
  "orig_nbformat": 4,
  "vscode": {
   "interpreter": {
    "hash": "02c1b4ef390a5efa9184e7809e1c04e02d7699a783b26d72e51ddd5cfed96e3f"
   }
  }
 },
 "nbformat": 4,
 "nbformat_minor": 2
}
