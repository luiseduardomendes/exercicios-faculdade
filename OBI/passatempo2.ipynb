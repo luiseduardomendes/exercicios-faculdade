{
 "cells": [
  {
   "cell_type": "code",
   "execution_count": 19,
   "metadata": {},
   "outputs": [
    {
     "name": "stdout",
     "output_type": "stream",
     "text": [
      "az 1\n",
      "bb 3\n",
      "cg 2\n",
      "df 2\n",
      "ee 1\n"
     ]
    }
   ],
   "source": [
    "\n",
    "L = 4\n",
    "C = 5\n",
    "\n",
    "var = [\n",
    "    ['df', 'bb', 'cg', 'df', 'df', 11],\n",
    "    ['ee', 'az', 'cg', 'az', 'ee', 6],\n",
    "    ['df', 'cg', 'cg', 'df', 'df', 10],\n",
    "    ['az', 'az', 'cg', 'az', 'az', 6],\n",
    "    [6, 7, 8, 6, 6, None],\n",
    "]\n",
    "'''\n",
    "L = 3\n",
    "C = 4\n",
    "\n",
    "var = [\n",
    "    ['aa', 'bb', 'cc', 'dd', 10],\n",
    "    ['aa', 'bb', 'cc', 'dd', 10],\n",
    "    ['aa', 'bb', 'cc', 'dd', 10],\n",
    "    [3, 6, 9, 12, None],\n",
    "]'''\n",
    "\n",
    "solve = {}\n",
    "\n",
    "for i in range(L):\n",
    "    for j in range(C):\n",
    "        solve[var[i][j]] = None\n",
    "\n",
    "\n",
    "def solve_row(a :list):\n",
    "    div = 0\n",
    "    a_cp = a[:]\n",
    "    for v in a_cp[:-1]:\n",
    "        if solve[v] == None:\n",
    "            variavel = v\n",
    "            div += 1\n",
    "        else:\n",
    "            a_cp[len(a)-1] -= solve[v]\n",
    "    if div != 0:\n",
    "        solve[variavel] = a_cp[len(a)-1] / div\n",
    "\n",
    "loop = True\n",
    "while(loop):\n",
    "    for i in range(L):\n",
    "        v = var[i][0]\n",
    "        single_var = True\n",
    "        for j in range(1, C):\n",
    "            if v != var[i][j] and solve[var[i][j]] == None:\n",
    "                single_var = False\n",
    "                break\n",
    "        if single_var:\n",
    "            solve_row([var[i][k] for k in range(0, C+1)])\n",
    "\n",
    "    for i in range(C):\n",
    "        v = var[0][i]\n",
    "        single_var = True\n",
    "        for j in range(1, L):\n",
    "            if v != var[j][i] and solve[var[j][i]] == None:\n",
    "                single_var = False\n",
    "                break\n",
    "        if single_var:\n",
    "            solve_row([var[k][i] for k in range(0, L+1)])\n",
    "\n",
    "    loop = False\n",
    "    for key in solve.keys():\n",
    "        if solve[key] == None:\n",
    "            loop = True\n",
    "\n",
    "final_print = []\n",
    "for key in solve.keys():\n",
    "    final_print.append((key, solve[key]))\n",
    "\n",
    "final_print.sort()\n",
    "for a, b in final_print:\n",
    "    print(a, int(b))\n",
    "\n"
   ]
  }
 ],
 "metadata": {
  "kernelspec": {
   "display_name": "Python 3.9.12 ('base')",
   "language": "python",
   "name": "python3"
  },
  "language_info": {
   "codemirror_mode": {
    "name": "ipython",
    "version": 3
   },
   "file_extension": ".py",
   "mimetype": "text/x-python",
   "name": "python",
   "nbconvert_exporter": "python",
   "pygments_lexer": "ipython3",
   "version": "3.9.12"
  },
  "orig_nbformat": 4,
  "vscode": {
   "interpreter": {
    "hash": "02c1b4ef390a5efa9184e7809e1c04e02d7699a783b26d72e51ddd5cfed96e3f"
   }
  }
 },
 "nbformat": 4,
 "nbformat_minor": 2
}
