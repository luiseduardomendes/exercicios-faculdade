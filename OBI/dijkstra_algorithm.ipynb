{
 "cells": [
  {
   "cell_type": "code",
   "execution_count": 3,
   "metadata": {},
   "outputs": [
    {
     "data": {
      "text/plain": [
       "[0, 1, 2, 3, 4, 5, 6, 7, 8]"
      ]
     },
     "execution_count": 3,
     "metadata": {},
     "output_type": "execute_result"
    }
   ],
   "source": [
    "graph = [\n",
    "    [0, 1, 4],\n",
    "    [0, 7, 8],\n",
    "    [1, 7, 11],\n",
    "    [1, 2, 8],\n",
    "    [7, 8, 7],\n",
    "    [7, 6, 1],\n",
    "    [2, 8, 2],\n",
    "    [2, 5, 4],\n",
    "    [2, 3, 7],\n",
    "    [8, 6, 6],\n",
    "    [6, 5, 2],\n",
    "    [3, 5, 14],\n",
    "    [3, 4, 9],\n",
    "    [5, 4, 10]\n",
    "]\n",
    "V = list(range(9))\n",
    "\n",
    "I, F = 0, 8\n",
    "\n",
    "for edge in graph:\n",
    "    \n",
    "    \n",
    "\n"
   ]
  }
 ],
 "metadata": {
  "kernelspec": {
   "display_name": "Python 3.9.12 ('base')",
   "language": "python",
   "name": "python3"
  },
  "language_info": {
   "codemirror_mode": {
    "name": "ipython",
    "version": 3
   },
   "file_extension": ".py",
   "mimetype": "text/x-python",
   "name": "python",
   "nbconvert_exporter": "python",
   "pygments_lexer": "ipython3",
   "version": "3.9.12"
  },
  "orig_nbformat": 4,
  "vscode": {
   "interpreter": {
    "hash": "02c1b4ef390a5efa9184e7809e1c04e02d7699a783b26d72e51ddd5cfed96e3f"
   }
  }
 },
 "nbformat": 4,
 "nbformat_minor": 2
}
