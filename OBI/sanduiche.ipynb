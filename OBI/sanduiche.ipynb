{
 "cells": [
  {
   "cell_type": "code",
   "execution_count": 93,
   "metadata": {},
   "outputs": [
    {
     "data": {
      "text/plain": [
       "3"
      ]
     },
     "execution_count": 93,
     "metadata": {},
     "output_type": "execute_result"
    }
   ],
   "source": [
    "from math import log2\n",
    "\n",
    "\n",
    "N = 3\n",
    "M = 3\n",
    "pares = [\n",
    "    (1, 3),\n",
    "    (2, 3),\n",
    "    (1, 2)\n",
    "]\n",
    "\n",
    "sets = 0\n",
    "for i in range(2**N):\n",
    "    temp = []\n",
    "    j = N\n",
    "    while(j != 0):\n",
    "        if i % 2 == 0:\n",
    "            temp.append(j)\n",
    "        i = i//2\n",
    "        j = j - 1\n",
    "        \n",
    "    valid = True\n",
    "    for par in pares:\n",
    "        if (par[0] in temp and par[1] in temp):\n",
    "            valid = False\n",
    "    if temp == []:\n",
    "        valid = False\n",
    "    if valid:\n",
    "        sets += 1\n",
    "\n",
    "sets"
   ]
  }
 ],
 "metadata": {
  "kernelspec": {
   "display_name": "Python 3.9.12 ('base')",
   "language": "python",
   "name": "python3"
  },
  "language_info": {
   "codemirror_mode": {
    "name": "ipython",
    "version": 3
   },
   "file_extension": ".py",
   "mimetype": "text/x-python",
   "name": "python",
   "nbconvert_exporter": "python",
   "pygments_lexer": "ipython3",
   "version": "3.9.12"
  },
  "orig_nbformat": 4,
  "vscode": {
   "interpreter": {
    "hash": "02c1b4ef390a5efa9184e7809e1c04e02d7699a783b26d72e51ddd5cfed96e3f"
   }
  }
 },
 "nbformat": 4,
 "nbformat_minor": 2
}
