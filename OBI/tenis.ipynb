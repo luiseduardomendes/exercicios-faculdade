{
 "cells": [
  {
   "cell_type": "code",
   "execution_count": 11,
   "metadata": {},
   "outputs": [],
   "source": [
    "def f1(n:list):\n",
    "    n.sort();\n",
    "    return abs(n[3]+n[0]-(n[1]+n[2]))\n",
    "    \n"
   ]
  },
  {
   "cell_type": "code",
   "execution_count": 12,
   "metadata": {},
   "outputs": [],
   "source": [
    "def f2(n:list):\n",
    "    a = []\n",
    "    a.append(abs(n[0] + n[1] - n[2] - n[3]))\n",
    "    a.append(abs(n[0] + n[2] - n[1] - n[3]))\n",
    "    a.append(abs(n[0] + n[3] - n[1] - n[2]))\n",
    "    a.sort()\n",
    "    return a[0]\n"
   ]
  },
  {
   "cell_type": "code",
   "execution_count": 15,
   "metadata": {},
   "outputs": [],
   "source": [
    "from random import randint as rand\n",
    "for i in range(10000000):\n",
    "    a = [rand(0, 100) for j in range(4)]\n",
    "    if f1(a) != f2(a):\n",
    "        print(\"Erro\")\n",
    "        break"
   ]
  }
 ],
 "metadata": {
  "kernelspec": {
   "display_name": "Python 3.9.12 ('base')",
   "language": "python",
   "name": "python3"
  },
  "language_info": {
   "codemirror_mode": {
    "name": "ipython",
    "version": 3
   },
   "file_extension": ".py",
   "mimetype": "text/x-python",
   "name": "python",
   "nbconvert_exporter": "python",
   "pygments_lexer": "ipython3",
   "version": "3.9.12"
  },
  "orig_nbformat": 4,
  "vscode": {
   "interpreter": {
    "hash": "02c1b4ef390a5efa9184e7809e1c04e02d7699a783b26d72e51ddd5cfed96e3f"
   }
  }
 },
 "nbformat": 4,
 "nbformat_minor": 2
}
