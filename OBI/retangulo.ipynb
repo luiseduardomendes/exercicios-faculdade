{
 "cells": [
  {
   "cell_type": "code",
   "execution_count": 12,
   "metadata": {},
   "outputs": [
    {
     "name": "stdout",
     "output_type": "stream",
     "text": [
      "S\n"
     ]
    }
   ],
   "source": [
    "v = [3, 7, 7, 3, 10, 10]\n",
    "N = len(v)\n",
    "yes = False\n",
    "\n",
    "for i in range(N):\n",
    "    for j in list(range(i+1, N)):\n",
    "        setor1 = 0\n",
    "        for ax in v[i:j]:\n",
    "            setor1 += ax\n",
    "        for k in list(range(j+1, N)):\n",
    "            setor2 = 0\n",
    "            for ax in v[j:k]:\n",
    "                setor2 += ax\n",
    "            for l in list(range(k+1, N)):\n",
    "                setor3 = 0\n",
    "                for ax in v[k:l]:\n",
    "                    setor3 += ax\n",
    "                if setor3 == setor1:\n",
    "                    \n",
    "                    setor4 = 0\n",
    "                    for ax in v[l:N]+v[0:i]:\n",
    "                        setor4 += ax\n",
    "\n",
    "                    if setor4 == setor2:\n",
    "                        print(\"S\")\n",
    "                        yes = True\n",
    "                        break\n",
    "                if yes:\n",
    "                    break\n",
    "            if yes:\n",
    "                break\n",
    "        if yes:\n",
    "            break\n",
    "    if yes:\n",
    "        break\n",
    "if not yes:\n",
    "    print(\"N\")   \n",
    "                        "
   ]
  }
 ],
 "metadata": {
  "kernelspec": {
   "display_name": "Python 3.9.12 ('base')",
   "language": "python",
   "name": "python3"
  },
  "language_info": {
   "codemirror_mode": {
    "name": "ipython",
    "version": 3
   },
   "file_extension": ".py",
   "mimetype": "text/x-python",
   "name": "python",
   "nbconvert_exporter": "python",
   "pygments_lexer": "ipython3",
   "version": "3.9.12"
  },
  "orig_nbformat": 4,
  "vscode": {
   "interpreter": {
    "hash": "02c1b4ef390a5efa9184e7809e1c04e02d7699a783b26d72e51ddd5cfed96e3f"
   }
  }
 },
 "nbformat": 4,
 "nbformat_minor": 2
}
